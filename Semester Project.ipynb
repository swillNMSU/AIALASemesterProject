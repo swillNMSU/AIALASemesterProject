{
 "cells": [
  {
   "cell_type": "markdown",
   "id": "0e99348c",
   "metadata": {},
   "source": [
    "# Introduction\n",
    "\n",
    "In this Jupyter Notebook, we undertake a machine learning project to predict whether sheep (ewes) are likely to be sick based on various physiological measurements such as acceleration, ear temperature, ambient temperature, and more. This research is crucial for early detection of illness in livestock, potentially aiding in timely medical intervention and better farm management."
   ]
  },
  {
   "cell_type": "markdown",
   "id": "63361573",
   "metadata": {},
   "source": [
    "# Setup\n",
    "\n",
    "**Libraries and Dependencies**: The notebook utilizes Python libraries such as Pandas for data manipulation, Matplotlib and Seaborn for data visualization, Scikit-learn for machine learning, and TensorFlow for constructing neural network models."
   ]
  },
  {
   "cell_type": "code",
   "execution_count": 1,
   "id": "e0d1d6e8",
   "metadata": {},
   "outputs": [],
   "source": [
    "import pandas as pd\n",
    "import numpy as np\n",
    "import seaborn as sns\n",
    "import matplotlib.pyplot as plt\n",
    "from sklearn.ensemble import RandomForestClassifier\n",
    "from sklearn.model_selection import train_test_split\n",
    "from sklearn.metrics import accuracy_score, precision_score, recall_score, f1_score, roc_auc_score\n",
    "from sklearn.linear_model import LogisticRegression\n",
    "from sklearn.svm import SVC\n",
    "from sklearn.naive_bayes import GaussianNB\n",
    "from sklearn.preprocessing import StandardScaler\n",
    "from sklearn.neighbors import KNeighborsClassifier\n",
    "from sklearn.model_selection import GridSearchCV\n",
    "import tensorflow as tf\n",
    "from tensorflow.keras import layers, models\n",
    "from tensorflow.keras.models import Sequential\n",
    "from tensorflow.keras.layers import LSTM, Dense\n"
   ]
  },
  {
   "cell_type": "markdown",
   "id": "d20dd181",
   "metadata": {},
   "source": [
    "# Data Loading and Preprocessing\n",
    "\n",
    "**Data Loading**: The dataset is loaded from an Excel file, providing initial insights into the structure and type of data collected. \n",
    "\n",
    "**Preprocessing**: We handle missing data (if any) and transform categorical variables into numeric. This step includes normalization or scaling if necessary, especially important for models like KNN and SVM."
   ]
  },
  {
   "cell_type": "code",
   "execution_count": 2,
   "id": "d6cef158",
   "metadata": {},
   "outputs": [
    {
     "data": {
      "text/html": [
       "<div>\n",
       "<style scoped>\n",
       "    .dataframe tbody tr th:only-of-type {\n",
       "        vertical-align: middle;\n",
       "    }\n",
       "\n",
       "    .dataframe tbody tr th {\n",
       "        vertical-align: top;\n",
       "    }\n",
       "\n",
       "    .dataframe thead th {\n",
       "        text-align: right;\n",
       "    }\n",
       "</style>\n",
       "<table border=\"1\" class=\"dataframe\">\n",
       "  <thead>\n",
       "    <tr style=\"text-align: right;\">\n",
       "      <th></th>\n",
       "      <th>Ewe</th>\n",
       "      <th>Eday</th>\n",
       "      <th>Hour</th>\n",
       "      <th>accel</th>\n",
       "      <th>eartemp</th>\n",
       "      <th>ambtemp</th>\n",
       "    </tr>\n",
       "  </thead>\n",
       "  <tbody>\n",
       "    <tr>\n",
       "      <th>count</th>\n",
       "      <td>2391.000000</td>\n",
       "      <td>2391.000000</td>\n",
       "      <td>2391.000000</td>\n",
       "      <td>2391.000000</td>\n",
       "      <td>2391.000000</td>\n",
       "      <td>2391.000000</td>\n",
       "    </tr>\n",
       "    <tr>\n",
       "      <th>mean</th>\n",
       "      <td>602.373066</td>\n",
       "      <td>-0.453367</td>\n",
       "      <td>11.474279</td>\n",
       "      <td>132.658136</td>\n",
       "      <td>82.754734</td>\n",
       "      <td>68.162130</td>\n",
       "    </tr>\n",
       "    <tr>\n",
       "      <th>std</th>\n",
       "      <td>90.337441</td>\n",
       "      <td>3.031808</td>\n",
       "      <td>6.949133</td>\n",
       "      <td>135.436867</td>\n",
       "      <td>25.551007</td>\n",
       "      <td>13.738572</td>\n",
       "    </tr>\n",
       "    <tr>\n",
       "      <th>min</th>\n",
       "      <td>453.000000</td>\n",
       "      <td>-7.000000</td>\n",
       "      <td>0.000000</td>\n",
       "      <td>0.000000</td>\n",
       "      <td>33.476000</td>\n",
       "      <td>31.760000</td>\n",
       "    </tr>\n",
       "    <tr>\n",
       "      <th>25%</th>\n",
       "      <td>544.000000</td>\n",
       "      <td>-3.000000</td>\n",
       "      <td>5.000000</td>\n",
       "      <td>29.800000</td>\n",
       "      <td>75.338500</td>\n",
       "      <td>58.492000</td>\n",
       "    </tr>\n",
       "    <tr>\n",
       "      <th>50%</th>\n",
       "      <td>601.000000</td>\n",
       "      <td>0.000000</td>\n",
       "      <td>11.000000</td>\n",
       "      <td>82.400000</td>\n",
       "      <td>83.146000</td>\n",
       "      <td>69.215000</td>\n",
       "    </tr>\n",
       "    <tr>\n",
       "      <th>75%</th>\n",
       "      <td>706.000000</td>\n",
       "      <td>2.000000</td>\n",
       "      <td>18.000000</td>\n",
       "      <td>200.400000</td>\n",
       "      <td>89.586000</td>\n",
       "      <td>78.157500</td>\n",
       "    </tr>\n",
       "    <tr>\n",
       "      <th>max</th>\n",
       "      <td>742.000000</td>\n",
       "      <td>5.000000</td>\n",
       "      <td>23.000000</td>\n",
       "      <td>691.400000</td>\n",
       "      <td>285.302000</td>\n",
       "      <td>99.865000</td>\n",
       "    </tr>\n",
       "  </tbody>\n",
       "</table>\n",
       "</div>"
      ],
      "text/plain": [
       "               Ewe         Eday         Hour        accel      eartemp  \\\n",
       "count  2391.000000  2391.000000  2391.000000  2391.000000  2391.000000   \n",
       "mean    602.373066    -0.453367    11.474279   132.658136    82.754734   \n",
       "std      90.337441     3.031808     6.949133   135.436867    25.551007   \n",
       "min     453.000000    -7.000000     0.000000     0.000000    33.476000   \n",
       "25%     544.000000    -3.000000     5.000000    29.800000    75.338500   \n",
       "50%     601.000000     0.000000    11.000000    82.400000    83.146000   \n",
       "75%     706.000000     2.000000    18.000000   200.400000    89.586000   \n",
       "max     742.000000     5.000000    23.000000   691.400000   285.302000   \n",
       "\n",
       "           ambtemp  \n",
       "count  2391.000000  \n",
       "mean     68.162130  \n",
       "std      13.738572  \n",
       "min      31.760000  \n",
       "25%      58.492000  \n",
       "50%      69.215000  \n",
       "75%      78.157500  \n",
       "max      99.865000  "
      ]
     },
     "execution_count": 2,
     "metadata": {},
     "output_type": "execute_result"
    }
   ],
   "source": [
    "data = pd.read_excel('sheep_data.xlsx')\n",
    "data.head()\n",
    "\n",
    "data.isnull().sum()\n",
    "\n",
    "data.describe()\n"
   ]
  },
  {
   "cell_type": "markdown",
   "id": "249daddf",
   "metadata": {},
   "source": [
    "# Exploratory Data Analysis (EDA)\n",
    "\n",
    "**Correlation Analysis**: We explore how different physiological measurements relate to each other and their correlation with the sickness outcome."
   ]
  },
  {
   "cell_type": "code",
   "execution_count": 3,
   "id": "f0525a4f",
   "metadata": {},
   "outputs": [
    {
     "name": "stderr",
     "output_type": "stream",
     "text": [
      "C:\\Users\\steve\\AppData\\Local\\Temp\\ipykernel_4008\\4026175683.py:2: FutureWarning: The default value of numeric_only in DataFrame.corr is deprecated. In a future version, it will default to False. Select only valid columns or specify the value of numeric_only to silence this warning.\n",
      "  corr_matrix = data.corr()\n"
     ]
    },
    {
     "data": {
      "image/png": "[encoded data removed]",
      "text/plain": [
       "<Figure size 1000x800 with 2 Axes>"
      ]
     },
     "metadata": {},
     "output_type": "display_data"
    }
   ],
   "source": [
    "# Compute correlations\n",
    "corr_matrix = data.corr()\n",
    "plt.figure(figsize=(10, 8))\n",
    "sns.heatmap(corr_matrix, annot=True, fmt=\".2f\")\n",
    "plt.show()"
   ]
  },
  {
   "cell_type": "markdown",
   "id": "3bc18c7f",
   "metadata": {},
   "source": [
    "# Model Building\n",
    "\n",
    "**Feature Selection and Model Training**: Various models are built to predict sheep sickness, including Random Forest, Logistic Regression, SVM, Naive Bayes, Neural Networks, and LSTM models. We evaluate the importance of features using a Random Forest classifier."
   ]
  },
  {
   "cell_type": "code",
   "execution_count": 4,
   "id": "3bf33a3a",
   "metadata": {},
   "outputs": [
    {
     "data": {
      "image/png": "[encoded data removed]",
      "text/plain": [
       "<Figure size 1000x600 with 1 Axes>"
      ]
     },
     "metadata": {},
     "output_type": "display_data"
    }
   ],
   "source": [
    "# Sick is the target variable\n",
    "X = data.drop(['sick'], axis=1)\n",
    "y = data['sick']\n",
    "\n",
    "# Splitting data into training and testing sets\n",
    "X_train, X_test, y_train, y_test = train_test_split(X, y, test_size=0.3, random_state=42)\n",
    "\n",
    "# Fitting a random forest to find feature importance\n",
    "forest = RandomForestClassifier(random_state=42)\n",
    "forest.fit(X_train, y_train)\n",
    "\n",
    "# Plotting feature importances\n",
    "importances = forest.feature_importances_\n",
    "indices = np.argsort(importances)[::-1]\n",
    "plt.figure(figsize=(10, 6))\n",
    "plt.title(\"Feature importances\")\n",
    "plt.bar(range(X_train.shape[1]), importances[indices], align=\"center\")\n",
    "plt.xticks(range(X_train.shape[1]), X_train.columns[indices], rotation=90)\n",
    "plt.xlim([-1, X_train.shape[1]])\n",
    "plt.show()\n"
   ]
  },
  {
   "cell_type": "markdown",
   "id": "ddfc3d7c",
   "metadata": {},
   "source": [
    "# Results and Discussion\n",
    "\n",
    "**Model Evaluation**: Each model is evaluated using accuracy, precision, recall, F1 score, and ROC AUC. The results help determine the best-performing models and understand their strengths and weaknesses in context.\n",
    "\n",
    "The evaluation metrics used include:\n",
    "- Accuracy: Measures the overall correctness of the model.\n",
    "- Precision: Reflects the ratio of true positives to the sum of true and false positives, indicating the accuracy of positive predictions.\n",
    "- Recall: Measures the model's ability to detect positive samples (the proportion of actual positives correctly identified).\n",
    "- F1 Score: A harmonic mean of precision and recall, providing a balance between these metrics for situations where an equal trade-off is required.\n",
    "- ROC AUC: Represents the model's ability to discriminate between the classes at various threshold settings."
   ]
  },
  {
   "cell_type": "code",
   "execution_count": 5,
   "id": "201805fb",
   "metadata": {},
   "outputs": [],
   "source": [
    "def evaluate_model(model, X_test, y_test):\n",
    "    y_pred = model.predict(X_test)\n",
    "    print(f\"Accuracy: {accuracy_score(y_test, y_pred):.4f}\")\n",
    "    print(f\"Precision: {precision_score(y_test, y_pred):.4f}\")\n",
    "    print(f\"Recall: {recall_score(y_test, y_pred):.4f}\")\n",
    "    print(f\"F1 Score: {f1_score(y_test, y_pred):.4f}\")\n",
    "    print(f\"ROC AUC: {roc_auc_score(y_test, y_pred):.4f}\")\n"
   ]
  },
  {
   "cell_type": "markdown",
   "id": "c8c9a940",
   "metadata": {},
   "source": [
    "# Logistic Regression Model Training and Evaluation\n",
    "\n",
    "In this section, we implement a Logistic Regression model to classify sheep as either sick ('symptom') or not sick ('nosymp'). Logistic Regression is chosen for its efficiency and effectiveness in binary classification tasks."
   ]
  },
  {
   "cell_type": "code",
   "execution_count": 6,
   "id": "845ef5de",
   "metadata": {
    "scrolled": false
   },
   "outputs": [
    {
     "name": "stdout",
     "output_type": "stream",
     "text": [
      "Accuracy: 0.6198\n",
      "Precision: 0.5068\n",
      "Recall: 0.2691\n",
      "F1 Score: 0.3515\n",
      "ROC AUC: 0.5533\n"
     ]
    }
   ],
   "source": [
    "log_reg = LogisticRegression(random_state=42, max_iter=1000)\n",
    "\n",
    "# Convert categorical target to numeric\n",
    "y_train_numeric = y_train.map({'nosymp': 0, 'symptom': 1})\n",
    "y_test_numeric = y_test.map({'nosymp': 0, 'symptom': 1})\n",
    "\n",
    "# Then, use these numeric targets for model training and evaluation\n",
    "log_reg.fit(X_train, y_train_numeric)\n",
    "evaluate_model(log_reg, X_test, y_test_numeric)"
   ]
  },
  {
   "cell_type": "markdown",
   "id": "a6ea4e6e",
   "metadata": {},
   "source": [
    "# Random Forest Classifier Training and Evaluation\n",
    "\n",
    "In this section, we deploy the Random Forest Classifier to predict whether sheep are exhibiting symptoms of sickness. The Random Forest algorithm is selected for its robustness and ability to handle non-linear data through ensemble learning, where multiple decision trees are combined to improve prediction accuracy and control overfitting."
   ]
  },
  {
   "cell_type": "code",
   "execution_count": 7,
   "id": "5138b536",
   "metadata": {},
   "outputs": [
    {
     "name": "stdout",
     "output_type": "stream",
     "text": [
      "Accuracy: 0.9986\n",
      "Precision: 1.0000\n",
      "Recall: 0.9964\n",
      "F1 Score: 0.9982\n",
      "ROC AUC: 0.9982\n"
     ]
    }
   ],
   "source": [
    "# Convert categorical target to numeric\n",
    "y_train_numeric = y_train.map({'nosymp': 0, 'symptom': 1})\n",
    "y_test_numeric = y_test.map({'nosymp': 0, 'symptom': 1})\n",
    "\n",
    "rf = RandomForestClassifier(random_state=42)\n",
    "rf.fit(X_train, y_train_numeric)\n",
    "evaluate_model(rf, X_test, y_test_numeric)"
   ]
  },
  {
   "cell_type": "markdown",
   "id": "f9ab2574",
   "metadata": {},
   "source": [
    "# Neural Network Configuration and Compilation\n",
    "\n",
    "In this segment of the notebook, we construct a Neural Network using TensorFlow's Keras API to classify sheep based on whether they are exhibiting symptoms of sickness. This model is designed to leverage the capabilities of deep learning for pattern recognition in complex datasets."
   ]
  },
  {
   "cell_type": "code",
   "execution_count": 8,
   "id": "1af3074e",
   "metadata": {},
   "outputs": [
    {
     "name": "stderr",
     "output_type": "stream",
     "text": [
      "C:\\Anaconda\\lib\\site-packages\\keras\\src\\layers\\core\\dense.py:88: UserWarning: Do not pass an `input_shape`/`input_dim` argument to a layer. When using Sequential models, prefer using an `Input(shape)` object as the first layer in the model instead.\n",
      "  super().__init__(activity_regularizer=activity_regularizer, **kwargs)\n"
     ]
    },
    {
     "data": {
      "text/html": [
       "<pre style=\"white-space:pre;overflow-x:auto;line-height:normal;font-family:Menlo,'DejaVu Sans Mono',consolas,'Courier New',monospace\"><span style=\"font-weight: bold\">Model: \"sequential\"</span>\n",
       "</pre>\n"
      ],
      "text/plain": [
       "\u001b[1mModel: \"sequential\"\u001b[0m\n"
      ]
     },
     "metadata": {},
     "output_type": "display_data"
    },
    {
     "data": {
      "text/html": [
       "<pre style=\"white-space:pre;overflow-x:auto;line-height:normal;font-family:Menlo,'DejaVu Sans Mono',consolas,'Courier New',monospace\">┏━━━━━━━━━━━━━━━━━━━━━━━━━━━━━━━━━━━━━━┳━━━━━━━━━━━━━━━━━━━━━━━━━━━━━┳━━━━━━━━━━━━━━━━━┓\n",
       "┃<span style=\"font-weight: bold\"> Layer (type)                         </span>┃<span style=\"font-weight: bold\"> Output Shape                </span>┃<span style=\"font-weight: bold\">         Param # </span>┃\n",
       "┡━━━━━━━━━━━━━━━━━━━━━━━━━━━━━━━━━━━━━━╇━━━━━━━━━━━━━━━━━━━━━━━━━━━━━╇━━━━━━━━━━━━━━━━━┩\n",
       "│ dense (<span style=\"color: #0087ff; text-decoration-color: #0087ff\">Dense</span>)                        │ (<span style=\"color: #00d7ff; text-decoration-color: #00d7ff\">None</span>, <span style=\"color: #00af00; text-decoration-color: #00af00\">64</span>)                  │             <span style=\"color: #00af00; text-decoration-color: #00af00\">448</span> │\n",
       "├──────────────────────────────────────┼─────────────────────────────┼─────────────────┤\n",
       "│ dense_1 (<span style=\"color: #0087ff; text-decoration-color: #0087ff\">Dense</span>)                      │ (<span style=\"color: #00d7ff; text-decoration-color: #00d7ff\">None</span>, <span style=\"color: #00af00; text-decoration-color: #00af00\">32</span>)                  │           <span style=\"color: #00af00; text-decoration-color: #00af00\">2,080</span> │\n",
       "├──────────────────────────────────────┼─────────────────────────────┼─────────────────┤\n",
       "│ dense_2 (<span style=\"color: #0087ff; text-decoration-color: #0087ff\">Dense</span>)                      │ (<span style=\"color: #00d7ff; text-decoration-color: #00d7ff\">None</span>, <span style=\"color: #00af00; text-decoration-color: #00af00\">1</span>)                   │              <span style=\"color: #00af00; text-decoration-color: #00af00\">33</span> │\n",
       "└──────────────────────────────────────┴─────────────────────────────┴─────────────────┘\n",
       "</pre>\n"
      ],
      "text/plain": [
       "┏━━━━━━━━━━━━━━━━━━━━━━━━━━━━━━━━━━━━━━┳━━━━━━━━━━━━━━━━━━━━━━━━━━━━━┳━━━━━━━━━━━━━━━━━┓\n",
       "┃\u001b[1m \u001b[0m\u001b[1mLayer (type)                        \u001b[0m\u001b[1m \u001b[0m┃\u001b[1m \u001b[0m\u001b[1mOutput Shape               \u001b[0m\u001b[1m \u001b[0m┃\u001b[1m \u001b[0m\u001b[1m        Param #\u001b[0m\u001b[1m \u001b[0m┃\n",
       "┡━━━━━━━━━━━━━━━━━━━━━━━━━━━━━━━━━━━━━━╇━━━━━━━━━━━━━━━━━━━━━━━━━━━━━╇━━━━━━━━━━━━━━━━━┩\n",
       "│ dense (\u001b[38;5;33mDense\u001b[0m)                        │ (\u001b[38;5;45mNone\u001b[0m, \u001b[38;5;34m64\u001b[0m)                  │             \u001b[38;5;34m448\u001b[0m │\n",
       "├──────────────────────────────────────┼─────────────────────────────┼─────────────────┤\n",
       "│ dense_1 (\u001b[38;5;33mDense\u001b[0m)                      │ (\u001b[38;5;45mNone\u001b[0m, \u001b[38;5;34m32\u001b[0m)                  │           \u001b[38;5;34m2,080\u001b[0m │\n",
       "├──────────────────────────────────────┼─────────────────────────────┼─────────────────┤\n",
       "│ dense_2 (\u001b[38;5;33mDense\u001b[0m)                      │ (\u001b[38;5;45mNone\u001b[0m, \u001b[38;5;34m1\u001b[0m)                   │              \u001b[38;5;34m33\u001b[0m │\n",
       "└──────────────────────────────────────┴─────────────────────────────┴─────────────────┘\n"
      ]
     },
     "metadata": {},
     "output_type": "display_data"
    },
    {
     "data": {
      "text/html": [
       "<pre style=\"white-space:pre;overflow-x:auto;line-height:normal;font-family:Menlo,'DejaVu Sans Mono',consolas,'Courier New',monospace\"><span style=\"font-weight: bold\"> Total params: </span><span style=\"color: #00af00; text-decoration-color: #00af00\">2,561</span> (10.00 KB)\n",
       "</pre>\n"
      ],
      "text/plain": [
       "\u001b[1m Total params: \u001b[0m\u001b[38;5;34m2,561\u001b[0m (10.00 KB)\n"
      ]
     },
     "metadata": {},
     "output_type": "display_data"
    },
    {
     "data": {
      "text/html": [
       "<pre style=\"white-space:pre;overflow-x:auto;line-height:normal;font-family:Menlo,'DejaVu Sans Mono',consolas,'Courier New',monospace\"><span style=\"font-weight: bold\"> Trainable params: </span><span style=\"color: #00af00; text-decoration-color: #00af00\">2,561</span> (10.00 KB)\n",
       "</pre>\n"
      ],
      "text/plain": [
       "\u001b[1m Trainable params: \u001b[0m\u001b[38;5;34m2,561\u001b[0m (10.00 KB)\n"
      ]
     },
     "metadata": {},
     "output_type": "display_data"
    },
    {
     "data": {
      "text/html": [
       "<pre style=\"white-space:pre;overflow-x:auto;line-height:normal;font-family:Menlo,'DejaVu Sans Mono',consolas,'Courier New',monospace\"><span style=\"font-weight: bold\"> Non-trainable params: </span><span style=\"color: #00af00; text-decoration-color: #00af00\">0</span> (0.00 B)\n",
       "</pre>\n"
      ],
      "text/plain": [
       "\u001b[1m Non-trainable params: \u001b[0m\u001b[38;5;34m0\u001b[0m (0.00 B)\n"
      ]
     },
     "metadata": {},
     "output_type": "display_data"
    }
   ],
   "source": [
    "# Define the model\n",
    "model = models.Sequential([\n",
    "    layers.Dense(64, activation='relu', input_shape=(X_train.shape[1],)),  # Input layer: Adjust the input shape to match your feature count\n",
    "    layers.Dense(32, activation='relu'),  # Hidden layer: You can modify the number of neurons\n",
    "    layers.Dense(1, activation='sigmoid')  # Output layer: Using sigmoid for binary classification\n",
    "])\n",
    "\n",
    "# Compile the model\n",
    "model.compile(optimizer='adam',  # Optimizer\n",
    "              loss='binary_crossentropy',  # Loss function for binary classification\n",
    "              metrics=['accuracy', tf.keras.metrics.Precision(), tf.keras.metrics.Recall()])  # Metrics to be evaluated\n",
    "\n",
    "# Summary of the model\n",
    "model.summary()\n"
   ]
  },
  {
   "cell_type": "markdown",
   "id": "20d0b6f4",
   "metadata": {},
   "source": [
    "# Training the Neural Network\n",
    "\n",
    "This section details the training process for the neural network designed to classify sheep based on health status indicators. The network has been configured to optimize its parameters over a specified number of iterations through the dataset."
   ]
  },
  {
   "cell_type": "code",
   "execution_count": 9,
   "id": "cccc5e15",
   "metadata": {},
   "outputs": [
    {
     "name": "stdout",
     "output_type": "stream",
     "text": [
      "Epoch 1/100\n",
      "\u001b[1m42/42\u001b[0m \u001b[32m━━━━━━━━━━━━━━━━━━━━\u001b[0m\u001b[37m\u001b[0m \u001b[1m1s\u001b[0m 7ms/step - accuracy: 0.4861 - loss: 18.8109 - precision: 0.4097 - recall: 0.6474 - val_accuracy: 0.4627 - val_loss: 1.9608 - val_precision: 0.4187 - val_recall: 0.9098\n",
      "Epoch 2/100\n",
      "\u001b[1m42/42\u001b[0m \u001b[32m━━━━━━━━━━━━━━━━━━━━\u001b[0m\u001b[37m\u001b[0m \u001b[1m0s\u001b[0m 2ms/step - accuracy: 0.5532 - loss: 1.3476 - precision: 0.4438 - recall: 0.5237 - val_accuracy: 0.5403 - val_loss: 0.9181 - val_precision: 0.4173 - val_recall: 0.3985\n",
      "Epoch 3/100\n",
      "\u001b[1m42/42\u001b[0m \u001b[32m━━━━━━━━━━━━━━━━━━━━\u001b[0m\u001b[37m\u001b[0m \u001b[1m0s\u001b[0m 2ms/step - accuracy: 0.5780 - loss: 0.8777 - precision: 0.4557 - recall: 0.3928 - val_accuracy: 0.5522 - val_loss: 0.7980 - val_precision: 0.4341 - val_recall: 0.4211\n",
      "Epoch 4/100\n",
      "\u001b[1m42/42\u001b[0m \u001b[32m━━━━━━━━━━━━━━━━━━━━\u001b[0m\u001b[37m\u001b[0m \u001b[1m0s\u001b[0m 2ms/step - accuracy: 0.5794 - loss: 0.7963 - precision: 0.4764 - recall: 0.4135 - val_accuracy: 0.5582 - val_loss: 0.7601 - val_precision: 0.4400 - val_recall: 0.4135\n",
      "Epoch 5/100\n",
      "\u001b[1m42/42\u001b[0m \u001b[32m━━━━━━━━━━━━━━━━━━━━\u001b[0m\u001b[37m\u001b[0m \u001b[1m0s\u001b[0m 2ms/step - accuracy: 0.5849 - loss: 0.7537 - precision: 0.4778 - recall: 0.4428 - val_accuracy: 0.4955 - val_loss: 0.8032 - val_precision: 0.4262 - val_recall: 0.7820\n",
      "Epoch 6/100\n",
      "\u001b[1m42/42\u001b[0m \u001b[32m━━━━━━━━━━━━━━━━━━━━\u001b[0m\u001b[37m\u001b[0m \u001b[1m0s\u001b[0m 2ms/step - accuracy: 0.5598 - loss: 0.8872 - precision: 0.4141 - recall: 0.4920 - val_accuracy: 0.5821 - val_loss: 0.7186 - val_precision: 0.4762 - val_recall: 0.5263\n",
      "Epoch 7/100\n",
      "\u001b[1m42/42\u001b[0m \u001b[32m━━━━━━━━━━━━━━━━━━━━\u001b[0m\u001b[37m\u001b[0m \u001b[1m0s\u001b[0m 2ms/step - accuracy: 0.5935 - loss: 0.8021 - precision: 0.4649 - recall: 0.4642 - val_accuracy: 0.4269 - val_loss: 1.2166 - val_precision: 0.4075 - val_recall: 0.9774\n",
      "Epoch 8/100\n",
      "\u001b[1m42/42\u001b[0m \u001b[32m━━━━━━━━━━━━━━━━━━━━\u001b[0m\u001b[37m\u001b[0m \u001b[1m0s\u001b[0m 2ms/step - accuracy: 0.5850 - loss: 0.8117 - precision: 0.4883 - recall: 0.5253 - val_accuracy: 0.5851 - val_loss: 0.6871 - val_precision: 0.4792 - val_recall: 0.5188\n",
      "Epoch 9/100\n",
      "\u001b[1m42/42\u001b[0m \u001b[32m━━━━━━━━━━━━━━━━━━━━\u001b[0m\u001b[37m\u001b[0m \u001b[1m0s\u001b[0m 2ms/step - accuracy: 0.5981 - loss: 0.7040 - precision: 0.4864 - recall: 0.3879 - val_accuracy: 0.6060 - val_loss: 1.2053 - val_precision: 0.5294 - val_recall: 0.0677\n",
      "Epoch 10/100\n",
      "\u001b[1m42/42\u001b[0m \u001b[32m━━━━━━━━━━━━━━━━━━━━\u001b[0m\u001b[37m\u001b[0m \u001b[1m0s\u001b[0m 2ms/step - accuracy: 0.6323 - loss: 0.7408 - precision: 0.4797 - recall: 0.3642 - val_accuracy: 0.6448 - val_loss: 0.6616 - val_precision: 0.7500 - val_recall: 0.1579\n",
      "Epoch 11/100\n",
      "\u001b[1m42/42\u001b[0m \u001b[32m━━━━━━━━━━━━━━━━━━━━\u001b[0m\u001b[37m\u001b[0m \u001b[1m0s\u001b[0m 2ms/step - accuracy: 0.6473 - loss: 0.6472 - precision: 0.5426 - recall: 0.3263 - val_accuracy: 0.5910 - val_loss: 0.6597 - val_precision: 0.4853 - val_recall: 0.4962\n",
      "Epoch 12/100\n",
      "\u001b[1m42/42\u001b[0m \u001b[32m━━━━━━━━━━━━━━━━━━━━\u001b[0m\u001b[37m\u001b[0m \u001b[1m0s\u001b[0m 2ms/step - accuracy: 0.6068 - loss: 0.6934 - precision: 0.5062 - recall: 0.3926 - val_accuracy: 0.6239 - val_loss: 0.8473 - val_precision: 0.8889 - val_recall: 0.0602\n",
      "Epoch 13/100\n",
      "\u001b[1m42/42\u001b[0m \u001b[32m━━━━━━━━━━━━━━━━━━━━\u001b[0m\u001b[37m\u001b[0m \u001b[1m0s\u001b[0m 2ms/step - accuracy: 0.5844 - loss: 0.8101 - precision: 0.4771 - recall: 0.4258 - val_accuracy: 0.5343 - val_loss: 0.9212 - val_precision: 0.4498 - val_recall: 0.7744\n",
      "Epoch 14/100\n",
      "\u001b[1m42/42\u001b[0m \u001b[32m━━━━━━━━━━━━━━━━━━━━\u001b[0m\u001b[37m\u001b[0m \u001b[1m0s\u001b[0m 2ms/step - accuracy: 0.6097 - loss: 0.7889 - precision: 0.5109 - recall: 0.5165 - val_accuracy: 0.6328 - val_loss: 0.6344 - val_precision: 0.5446 - val_recall: 0.4586\n",
      "Epoch 15/100\n",
      "\u001b[1m42/42\u001b[0m \u001b[32m━━━━━━━━━━━━━━━━━━━━\u001b[0m\u001b[37m\u001b[0m \u001b[1m0s\u001b[0m 2ms/step - accuracy: 0.6350 - loss: 0.6790 - precision: 0.5296 - recall: 0.3950 - val_accuracy: 0.6299 - val_loss: 0.6464 - val_precision: 0.5584 - val_recall: 0.3233\n",
      "Epoch 16/100\n",
      "\u001b[1m42/42\u001b[0m \u001b[32m━━━━━━━━━━━━━━━━━━━━\u001b[0m\u001b[37m\u001b[0m \u001b[1m0s\u001b[0m 2ms/step - accuracy: 0.6535 - loss: 0.6381 - precision: 0.5973 - recall: 0.4778 - val_accuracy: 0.6537 - val_loss: 0.6442 - val_precision: 0.6977 - val_recall: 0.2256\n",
      "Epoch 17/100\n",
      "\u001b[1m42/42\u001b[0m \u001b[32m━━━━━━━━━━━━━━━━━━━━\u001b[0m\u001b[37m\u001b[0m \u001b[1m0s\u001b[0m 2ms/step - accuracy: 0.6495 - loss: 0.6391 - precision: 0.5744 - recall: 0.3771 - val_accuracy: 0.6299 - val_loss: 0.6287 - val_precision: 0.5378 - val_recall: 0.4812\n",
      "Epoch 18/100\n",
      "\u001b[1m42/42\u001b[0m \u001b[32m━━━━━━━━━━━━━━━━━━━━\u001b[0m\u001b[37m\u001b[0m \u001b[1m0s\u001b[0m 2ms/step - accuracy: 0.6178 - loss: 0.7324 - precision: 0.5267 - recall: 0.4259 - val_accuracy: 0.6209 - val_loss: 0.8261 - val_precision: 0.6364 - val_recall: 0.1053\n",
      "Epoch 19/100\n",
      "\u001b[1m42/42\u001b[0m \u001b[32m━━━━━━━━━━━━━━━━━━━━\u001b[0m\u001b[37m\u001b[0m \u001b[1m0s\u001b[0m 2ms/step - accuracy: 0.6056 - loss: 0.7790 - precision: 0.5054 - recall: 0.3651 - val_accuracy: 0.6000 - val_loss: 0.6602 - val_precision: 0.4964 - val_recall: 0.5113\n",
      "Epoch 20/100\n",
      "\u001b[1m42/42\u001b[0m \u001b[32m━━━━━━━━━━━━━━━━━━━━\u001b[0m\u001b[37m\u001b[0m \u001b[1m0s\u001b[0m 2ms/step - accuracy: 0.6574 - loss: 0.6407 - precision: 0.5808 - recall: 0.4386 - val_accuracy: 0.6358 - val_loss: 0.7937 - val_precision: 0.8667 - val_recall: 0.0977\n",
      "Epoch 21/100\n",
      "\u001b[1m42/42\u001b[0m \u001b[32m━━━━━━━━━━━━━━━━━━━━\u001b[0m\u001b[37m\u001b[0m \u001b[1m0s\u001b[0m 2ms/step - accuracy: 0.6441 - loss: 0.7043 - precision: 0.5605 - recall: 0.3142 - val_accuracy: 0.6388 - val_loss: 0.8572 - val_precision: 1.0000 - val_recall: 0.0902\n",
      "Epoch 22/100\n",
      "\u001b[1m42/42\u001b[0m \u001b[32m━━━━━━━━━━━━━━━━━━━━\u001b[0m\u001b[37m\u001b[0m \u001b[1m0s\u001b[0m 2ms/step - accuracy: 0.5892 - loss: 0.8076 - precision: 0.4912 - recall: 0.4260 - val_accuracy: 0.4388 - val_loss: 1.2460 - val_precision: 0.4132 - val_recall: 0.9850\n",
      "Epoch 23/100\n",
      "\u001b[1m42/42\u001b[0m \u001b[32m━━━━━━━━━━━━━━━━━━━━\u001b[0m\u001b[37m\u001b[0m \u001b[1m0s\u001b[0m 2ms/step - accuracy: 0.6171 - loss: 0.7922 - precision: 0.5240 - recall: 0.5074 - val_accuracy: 0.5493 - val_loss: 0.8307 - val_precision: 0.4408 - val_recall: 0.5038\n",
      "Epoch 24/100\n",
      "\u001b[1m42/42\u001b[0m \u001b[32m━━━━━━━━━━━━━━━━━━━━\u001b[0m\u001b[37m\u001b[0m \u001b[1m0s\u001b[0m 2ms/step - accuracy: 0.6145 - loss: 0.7421 - precision: 0.4553 - recall: 0.3952 - val_accuracy: 0.6328 - val_loss: 0.6749 - val_precision: 0.5962 - val_recall: 0.2331\n",
      "Epoch 25/100\n",
      "\u001b[1m42/42\u001b[0m \u001b[32m━━━━━━━━━━━━━━━━━━━━\u001b[0m\u001b[37m\u001b[0m \u001b[1m0s\u001b[0m 2ms/step - accuracy: 0.6183 - loss: 0.7119 - precision: 0.5210 - recall: 0.4774 - val_accuracy: 0.6209 - val_loss: 0.6313 - val_precision: 0.5273 - val_recall: 0.4361\n",
      "Epoch 26/100\n",
      "\u001b[1m42/42\u001b[0m \u001b[32m━━━━━━━━━━━━━━━━━━━━\u001b[0m\u001b[37m\u001b[0m \u001b[1m0s\u001b[0m 2ms/step - accuracy: 0.6729 - loss: 0.6127 - precision: 0.5845 - recall: 0.4259 - val_accuracy: 0.6776 - val_loss: 0.6075 - val_precision: 0.7049 - val_recall: 0.3233\n",
      "Epoch 27/100\n",
      "\u001b[1m42/42\u001b[0m \u001b[32m━━━━━━━━━━━━━━━━━━━━\u001b[0m\u001b[37m\u001b[0m \u001b[1m0s\u001b[0m 2ms/step - accuracy: 0.6315 - loss: 0.6530 - precision: 0.5517 - recall: 0.3825 - val_accuracy: 0.6119 - val_loss: 0.7987 - val_precision: 0.5517 - val_recall: 0.1203\n",
      "Epoch 28/100\n",
      "\u001b[1m42/42\u001b[0m \u001b[32m━━━━━━━━━━━━━━━━━━━━\u001b[0m\u001b[37m\u001b[0m \u001b[1m0s\u001b[0m 2ms/step - accuracy: 0.6272 - loss: 0.7136 - precision: 0.5207 - recall: 0.4193 - val_accuracy: 0.6030 - val_loss: 0.7201 - val_precision: 0.5000 - val_recall: 0.2406\n",
      "Epoch 29/100\n",
      "\u001b[1m42/42\u001b[0m \u001b[32m━━━━━━━━━━━━━━━━━━━━\u001b[0m\u001b[37m\u001b[0m \u001b[1m0s\u001b[0m 2ms/step - accuracy: 0.6317 - loss: 0.6574 - precision: 0.5205 - recall: 0.4342 - val_accuracy: 0.6567 - val_loss: 0.6808 - val_precision: 0.7812 - val_recall: 0.1880\n",
      "Epoch 30/100\n",
      "\u001b[1m42/42\u001b[0m \u001b[32m━━━━━━━━━━━━━━━━━━━━\u001b[0m\u001b[37m\u001b[0m \u001b[1m0s\u001b[0m 2ms/step - accuracy: 0.6270 - loss: 0.7049 - precision: 0.5315 - recall: 0.4637 - val_accuracy: 0.5731 - val_loss: 0.7529 - val_precision: 0.4795 - val_recall: 0.8797\n",
      "Epoch 31/100\n",
      "\u001b[1m42/42\u001b[0m \u001b[32m━━━━━━━━━━━━━━━━━━━━\u001b[0m\u001b[37m\u001b[0m \u001b[1m0s\u001b[0m 2ms/step - accuracy: 0.6123 - loss: 0.7484 - precision: 0.5131 - recall: 0.5613 - val_accuracy: 0.6418 - val_loss: 0.7385 - val_precision: 0.8421 - val_recall: 0.1203\n",
      "Epoch 32/100\n",
      "\u001b[1m42/42\u001b[0m \u001b[32m━━━━━━━━━━━━━━━━━━━━\u001b[0m\u001b[37m\u001b[0m \u001b[1m0s\u001b[0m 3ms/step - accuracy: 0.6128 - loss: 0.7212 - precision: 0.5300 - recall: 0.4151 - val_accuracy: 0.6567 - val_loss: 0.6533 - val_precision: 0.7250 - val_recall: 0.2180\n",
      "Epoch 33/100\n",
      "\u001b[1m42/42\u001b[0m \u001b[32m━━━━━━━━━━━━━━━━━━━━\u001b[0m\u001b[37m\u001b[0m \u001b[1m0s\u001b[0m 3ms/step - accuracy: 0.6427 - loss: 0.6612 - precision: 0.5325 - recall: 0.3963 - val_accuracy: 0.6269 - val_loss: 0.6485 - val_precision: 0.5426 - val_recall: 0.3835\n",
      "Epoch 34/100\n"
     ]
    },
    {
     "name": "stdout",
     "output_type": "stream",
     "text": [
      "\u001b[1m42/42\u001b[0m \u001b[32m━━━━━━━━━━━━━━━━━━━━\u001b[0m\u001b[37m\u001b[0m \u001b[1m0s\u001b[0m 2ms/step - accuracy: 0.6747 - loss: 0.6037 - precision: 0.5664 - recall: 0.4170 - val_accuracy: 0.6388 - val_loss: 0.6524 - val_precision: 0.5330 - val_recall: 0.7293\n",
      "Epoch 35/100\n",
      "\u001b[1m42/42\u001b[0m \u001b[32m━━━━━━━━━━━━━━━━━━━━\u001b[0m\u001b[37m\u001b[0m \u001b[1m0s\u001b[0m 2ms/step - accuracy: 0.6765 - loss: 0.6323 - precision: 0.6020 - recall: 0.5256 - val_accuracy: 0.6328 - val_loss: 0.6248 - val_precision: 0.5287 - val_recall: 0.6917\n",
      "Epoch 36/100\n",
      "\u001b[1m42/42\u001b[0m \u001b[32m━━━━━━━━━━━━━━━━━━━━\u001b[0m\u001b[37m\u001b[0m \u001b[1m0s\u001b[0m 2ms/step - accuracy: 0.6633 - loss: 0.6192 - precision: 0.6068 - recall: 0.4944 - val_accuracy: 0.6269 - val_loss: 0.6256 - val_precision: 0.5769 - val_recall: 0.2256\n",
      "Epoch 37/100\n",
      "\u001b[1m42/42\u001b[0m \u001b[32m━━━━━━━━━━━━━━━━━━━━\u001b[0m\u001b[37m\u001b[0m \u001b[1m0s\u001b[0m 2ms/step - accuracy: 0.6570 - loss: 0.6549 - precision: 0.5732 - recall: 0.4118 - val_accuracy: 0.6299 - val_loss: 0.8409 - val_precision: 0.9091 - val_recall: 0.0752\n",
      "Epoch 38/100\n",
      "\u001b[1m42/42\u001b[0m \u001b[32m━━━━━━━━━━━━━━━━━━━━\u001b[0m\u001b[37m\u001b[0m \u001b[1m0s\u001b[0m 2ms/step - accuracy: 0.6185 - loss: 0.7239 - precision: 0.5277 - recall: 0.3891 - val_accuracy: 0.6388 - val_loss: 0.6366 - val_precision: 0.5319 - val_recall: 0.7519\n",
      "Epoch 39/100\n",
      "\u001b[1m42/42\u001b[0m \u001b[32m━━━━━━━━━━━━━━━━━━━━\u001b[0m\u001b[37m\u001b[0m \u001b[1m0s\u001b[0m 2ms/step - accuracy: 0.6624 - loss: 0.6217 - precision: 0.5922 - recall: 0.5606 - val_accuracy: 0.6299 - val_loss: 0.7615 - val_precision: 1.0000 - val_recall: 0.0677\n",
      "Epoch 40/100\n",
      "\u001b[1m42/42\u001b[0m \u001b[32m━━━━━━━━━━━━━━━━━━━━\u001b[0m\u001b[37m\u001b[0m \u001b[1m0s\u001b[0m 2ms/step - accuracy: 0.6407 - loss: 0.6919 - precision: 0.5546 - recall: 0.4591 - val_accuracy: 0.6567 - val_loss: 0.5979 - val_precision: 0.5750 - val_recall: 0.5188\n",
      "Epoch 41/100\n",
      "\u001b[1m42/42\u001b[0m \u001b[32m━━━━━━━━━━━━━━━━━━━━\u001b[0m\u001b[37m\u001b[0m \u001b[1m0s\u001b[0m 2ms/step - accuracy: 0.6297 - loss: 0.6445 - precision: 0.5420 - recall: 0.4071 - val_accuracy: 0.6657 - val_loss: 0.6436 - val_precision: 0.8182 - val_recall: 0.2030\n",
      "Epoch 42/100\n",
      "\u001b[1m42/42\u001b[0m \u001b[32m━━━━━━━━━━━━━━━━━━━━\u001b[0m\u001b[37m\u001b[0m \u001b[1m0s\u001b[0m 2ms/step - accuracy: 0.6407 - loss: 0.7117 - precision: 0.5611 - recall: 0.4249 - val_accuracy: 0.6388 - val_loss: 0.6195 - val_precision: 0.5341 - val_recall: 0.7068\n",
      "Epoch 43/100\n",
      "\u001b[1m42/42\u001b[0m \u001b[32m━━━━━━━━━━━━━━━━━━━━\u001b[0m\u001b[37m\u001b[0m \u001b[1m0s\u001b[0m 2ms/step - accuracy: 0.6452 - loss: 0.6507 - precision: 0.5297 - recall: 0.3837 - val_accuracy: 0.5701 - val_loss: 0.6962 - val_precision: 0.4762 - val_recall: 0.8271\n",
      "Epoch 44/100\n",
      "\u001b[1m42/42\u001b[0m \u001b[32m━━━━━━━━━━━━━━━━━━━━\u001b[0m\u001b[37m\u001b[0m \u001b[1m0s\u001b[0m 2ms/step - accuracy: 0.6527 - loss: 0.6388 - precision: 0.5728 - recall: 0.5404 - val_accuracy: 0.5851 - val_loss: 0.6587 - val_precision: 0.4866 - val_recall: 0.8195\n",
      "Epoch 45/100\n",
      "\u001b[1m42/42\u001b[0m \u001b[32m━━━━━━━━━━━━━━━━━━━━\u001b[0m\u001b[37m\u001b[0m \u001b[1m0s\u001b[0m 2ms/step - accuracy: 0.6363 - loss: 0.6613 - precision: 0.5234 - recall: 0.4383 - val_accuracy: 0.6448 - val_loss: 0.6542 - val_precision: 0.5398 - val_recall: 0.7143\n",
      "Epoch 46/100\n",
      "\u001b[1m42/42\u001b[0m \u001b[32m━━━━━━━━━━━━━━━━━━━━\u001b[0m\u001b[37m\u001b[0m \u001b[1m0s\u001b[0m 2ms/step - accuracy: 0.6480 - loss: 0.6417 - precision: 0.5553 - recall: 0.4835 - val_accuracy: 0.6328 - val_loss: 0.6775 - val_precision: 0.5352 - val_recall: 0.5714\n",
      "Epoch 47/100\n",
      "\u001b[1m42/42\u001b[0m \u001b[32m━━━━━━━━━━━━━━━━━━━━\u001b[0m\u001b[37m\u001b[0m \u001b[1m0s\u001b[0m 2ms/step - accuracy: 0.6887 - loss: 0.6157 - precision: 0.6056 - recall: 0.4919 - val_accuracy: 0.6776 - val_loss: 0.6123 - val_precision: 0.7273 - val_recall: 0.3008\n",
      "Epoch 48/100\n",
      "\u001b[1m42/42\u001b[0m \u001b[32m━━━━━━━━━━━━━━━━━━━━\u001b[0m\u001b[37m\u001b[0m \u001b[1m0s\u001b[0m 2ms/step - accuracy: 0.6408 - loss: 0.6835 - precision: 0.5524 - recall: 0.5258 - val_accuracy: 0.6478 - val_loss: 0.6285 - val_precision: 0.5758 - val_recall: 0.4286\n",
      "Epoch 49/100\n",
      "\u001b[1m42/42\u001b[0m \u001b[32m━━━━━━━━━━━━━━━━━━━━\u001b[0m\u001b[37m\u001b[0m \u001b[1m0s\u001b[0m 2ms/step - accuracy: 0.6621 - loss: 0.6040 - precision: 0.5900 - recall: 0.4613 - val_accuracy: 0.5970 - val_loss: 0.6217 - val_precision: 0.4950 - val_recall: 0.7444\n",
      "Epoch 50/100\n",
      "\u001b[1m42/42\u001b[0m \u001b[32m━━━━━━━━━━━━━━━━━━━━\u001b[0m\u001b[37m\u001b[0m \u001b[1m0s\u001b[0m 2ms/step - accuracy: 0.6581 - loss: 0.6332 - precision: 0.5775 - recall: 0.4852 - val_accuracy: 0.4299 - val_loss: 1.2171 - val_precision: 0.4105 - val_recall: 1.0000\n",
      "Epoch 51/100\n",
      "\u001b[1m42/42\u001b[0m \u001b[32m━━━━━━━━━━━━━━━━━━━━\u001b[0m\u001b[37m\u001b[0m \u001b[1m0s\u001b[0m 2ms/step - accuracy: 0.6245 - loss: 0.7657 - precision: 0.5204 - recall: 0.5222 - val_accuracy: 0.6179 - val_loss: 0.6913 - val_precision: 0.5161 - val_recall: 0.6015\n",
      "Epoch 52/100\n",
      "\u001b[1m42/42\u001b[0m \u001b[32m━━━━━━━━━━━━━━━━━━━━\u001b[0m\u001b[37m\u001b[0m \u001b[1m0s\u001b[0m 2ms/step - accuracy: 0.6584 - loss: 0.6176 - precision: 0.5806 - recall: 0.5244 - val_accuracy: 0.6299 - val_loss: 0.6446 - val_precision: 0.5385 - val_recall: 0.4737\n",
      "Epoch 53/100\n",
      "\u001b[1m42/42\u001b[0m \u001b[32m━━━━━━━━━━━━━━━━━━━━\u001b[0m\u001b[37m\u001b[0m \u001b[1m0s\u001b[0m 2ms/step - accuracy: 0.6574 - loss: 0.6354 - precision: 0.5916 - recall: 0.5041 - val_accuracy: 0.6358 - val_loss: 0.7947 - val_precision: 0.6897 - val_recall: 0.1504\n",
      "Epoch 54/100\n",
      "\u001b[1m42/42\u001b[0m \u001b[32m━━━━━━━━━━━━━━━━━━━━\u001b[0m\u001b[37m\u001b[0m \u001b[1m0s\u001b[0m 2ms/step - accuracy: 0.6828 - loss: 0.6310 - precision: 0.6208 - recall: 0.5170 - val_accuracy: 0.6269 - val_loss: 0.6272 - val_precision: 0.5253 - val_recall: 0.6241\n",
      "Epoch 55/100\n",
      "\u001b[1m42/42\u001b[0m \u001b[32m━━━━━━━━━━━━━━━━━━━━\u001b[0m\u001b[37m\u001b[0m \u001b[1m0s\u001b[0m 2ms/step - accuracy: 0.6439 - loss: 0.6642 - precision: 0.5502 - recall: 0.4920 - val_accuracy: 0.6448 - val_loss: 0.6800 - val_precision: 0.5778 - val_recall: 0.3910\n",
      "Epoch 56/100\n",
      "\u001b[1m42/42\u001b[0m \u001b[32m━━━━━━━━━━━━━━━━━━━━\u001b[0m\u001b[37m\u001b[0m \u001b[1m0s\u001b[0m 2ms/step - accuracy: 0.6740 - loss: 0.6557 - precision: 0.5938 - recall: 0.4272 - val_accuracy: 0.4985 - val_loss: 0.7947 - val_precision: 0.4349 - val_recall: 0.8797\n",
      "Epoch 57/100\n",
      "\u001b[1m42/42\u001b[0m \u001b[32m━━━━━━━━━━━━━━━━━━━━\u001b[0m\u001b[37m\u001b[0m \u001b[1m0s\u001b[0m 2ms/step - accuracy: 0.6461 - loss: 0.6571 - precision: 0.5116 - recall: 0.4482 - val_accuracy: 0.5701 - val_loss: 0.6789 - val_precision: 0.4753 - val_recall: 0.7970\n",
      "Epoch 58/100\n",
      "\u001b[1m42/42\u001b[0m \u001b[32m━━━━━━━━━━━━━━━━━━━━\u001b[0m\u001b[37m\u001b[0m \u001b[1m0s\u001b[0m 2ms/step - accuracy: 0.6210 - loss: 0.6829 - precision: 0.5147 - recall: 0.4968 - val_accuracy: 0.4746 - val_loss: 0.8953 - val_precision: 0.4290 - val_recall: 0.9774\n",
      "Epoch 59/100\n",
      "\u001b[1m42/42\u001b[0m \u001b[32m━━━━━━━━━━━━━━━━━━━━\u001b[0m\u001b[37m\u001b[0m \u001b[1m0s\u001b[0m 2ms/step - accuracy: 0.6402 - loss: 0.6683 - precision: 0.5417 - recall: 0.4824 - val_accuracy: 0.6507 - val_loss: 0.6386 - val_precision: 0.7667 - val_recall: 0.1729\n",
      "Epoch 60/100\n",
      "\u001b[1m42/42\u001b[0m \u001b[32m━━━━━━━━━━━━━━━━━━━━\u001b[0m\u001b[37m\u001b[0m \u001b[1m0s\u001b[0m 2ms/step - accuracy: 0.6371 - loss: 0.6502 - precision: 0.5368 - recall: 0.4592 - val_accuracy: 0.6418 - val_loss: 0.7474 - val_precision: 0.6970 - val_recall: 0.1729\n",
      "Epoch 61/100\n",
      "\u001b[1m42/42\u001b[0m \u001b[32m━━━━━━━━━━━━━━━━━━━━\u001b[0m\u001b[37m\u001b[0m \u001b[1m0s\u001b[0m 2ms/step - accuracy: 0.6725 - loss: 0.6258 - precision: 0.6061 - recall: 0.4573 - val_accuracy: 0.6418 - val_loss: 0.7464 - val_precision: 0.7600 - val_recall: 0.1429\n",
      "Epoch 62/100\n",
      "\u001b[1m42/42\u001b[0m \u001b[32m━━━━━━━━━━━━━━━━━━━━\u001b[0m\u001b[37m\u001b[0m \u001b[1m0s\u001b[0m 2ms/step - accuracy: 0.6526 - loss: 0.6635 - precision: 0.5930 - recall: 0.5311 - val_accuracy: 0.5552 - val_loss: 0.6695 - val_precision: 0.4643 - val_recall: 0.7820\n",
      "Epoch 63/100\n",
      "\u001b[1m42/42\u001b[0m \u001b[32m━━━━━━━━━━━━━━━━━━━━\u001b[0m\u001b[37m\u001b[0m \u001b[1m0s\u001b[0m 2ms/step - accuracy: 0.6813 - loss: 0.6085 - precision: 0.6075 - recall: 0.5688 - val_accuracy: 0.6090 - val_loss: 0.6264 - val_precision: 0.5052 - val_recall: 0.7293\n",
      "Epoch 64/100\n",
      "\u001b[1m42/42\u001b[0m \u001b[32m━━━━━━━━━━━━━━━━━━━━\u001b[0m\u001b[37m\u001b[0m \u001b[1m0s\u001b[0m 2ms/step - accuracy: 0.6555 - loss: 0.6463 - precision: 0.5861 - recall: 0.4549 - val_accuracy: 0.6627 - val_loss: 0.6476 - val_precision: 0.8846 - val_recall: 0.1729\n",
      "Epoch 65/100\n",
      "\u001b[1m42/42\u001b[0m \u001b[32m━━━━━━━━━━━━━━━━━━━━\u001b[0m\u001b[37m\u001b[0m \u001b[1m0s\u001b[0m 2ms/step - accuracy: 0.6785 - loss: 0.6283 - precision: 0.6191 - recall: 0.5170 - val_accuracy: 0.6537 - val_loss: 0.6136 - val_precision: 0.6491 - val_recall: 0.2782\n",
      "Epoch 66/100\n",
      "\u001b[1m42/42\u001b[0m \u001b[32m━━━━━━━━━━━━━━━━━━━━\u001b[0m\u001b[37m\u001b[0m \u001b[1m0s\u001b[0m 2ms/step - accuracy: 0.6576 - loss: 0.6256 - precision: 0.5687 - recall: 0.4332 - val_accuracy: 0.5612 - val_loss: 0.7124 - val_precision: 0.4706 - val_recall: 0.8421\n",
      "Epoch 67/100\n",
      "\u001b[1m42/42\u001b[0m \u001b[32m━━━━━━━━━━━━━━━━━━━━\u001b[0m\u001b[37m\u001b[0m \u001b[1m0s\u001b[0m 2ms/step - accuracy: 0.6566 - loss: 0.6136 - precision: 0.5875 - recall: 0.5944 - val_accuracy: 0.6478 - val_loss: 0.6507 - val_precision: 0.6316 - val_recall: 0.2707\n"
     ]
    },
    {
     "name": "stdout",
     "output_type": "stream",
     "text": [
      "Epoch 68/100\n",
      "\u001b[1m42/42\u001b[0m \u001b[32m━━━━━━━━━━━━━━━━━━━━\u001b[0m\u001b[37m\u001b[0m \u001b[1m0s\u001b[0m 2ms/step - accuracy: 0.6746 - loss: 0.6476 - precision: 0.6032 - recall: 0.4449 - val_accuracy: 0.6149 - val_loss: 0.6576 - val_precision: 0.5102 - val_recall: 0.7519\n",
      "Epoch 69/100\n",
      "\u001b[1m42/42\u001b[0m \u001b[32m━━━━━━━━━━━━━━━━━━━━\u001b[0m\u001b[37m\u001b[0m \u001b[1m0s\u001b[0m 2ms/step - accuracy: 0.6475 - loss: 0.6781 - precision: 0.5152 - recall: 0.5314 - val_accuracy: 0.6119 - val_loss: 0.6680 - val_precision: 0.5102 - val_recall: 0.5639\n",
      "Epoch 70/100\n",
      "\u001b[1m42/42\u001b[0m \u001b[32m━━━━━━━━━━━━━━━━━━━━\u001b[0m\u001b[37m\u001b[0m \u001b[1m0s\u001b[0m 2ms/step - accuracy: 0.6177 - loss: 0.6630 - precision: 0.5191 - recall: 0.4799 - val_accuracy: 0.6000 - val_loss: 0.6560 - val_precision: 0.4977 - val_recall: 0.8195\n",
      "Epoch 71/100\n",
      "\u001b[1m42/42\u001b[0m \u001b[32m━━━━━━━━━━━━━━━━━━━━\u001b[0m\u001b[37m\u001b[0m \u001b[1m0s\u001b[0m 2ms/step - accuracy: 0.6661 - loss: 0.6048 - precision: 0.5925 - recall: 0.5291 - val_accuracy: 0.6746 - val_loss: 0.6338 - val_precision: 0.9286 - val_recall: 0.1955\n",
      "Epoch 72/100\n",
      "\u001b[1m42/42\u001b[0m \u001b[32m━━━━━━━━━━━━━━━━━━━━\u001b[0m\u001b[37m\u001b[0m \u001b[1m0s\u001b[0m 2ms/step - accuracy: 0.6597 - loss: 0.6346 - precision: 0.5847 - recall: 0.5072 - val_accuracy: 0.6597 - val_loss: 0.5931 - val_precision: 0.6267 - val_recall: 0.3534\n",
      "Epoch 73/100\n",
      "\u001b[1m42/42\u001b[0m \u001b[32m━━━━━━━━━━━━━━━━━━━━\u001b[0m\u001b[37m\u001b[0m \u001b[1m0s\u001b[0m 2ms/step - accuracy: 0.6974 - loss: 0.5864 - precision: 0.6292 - recall: 0.4542 - val_accuracy: 0.6388 - val_loss: 0.9067 - val_precision: 0.9286 - val_recall: 0.0977\n",
      "Epoch 74/100\n",
      "\u001b[1m42/42\u001b[0m \u001b[32m━━━━━━━━━━━━━━━━━━━━\u001b[0m\u001b[37m\u001b[0m \u001b[1m0s\u001b[0m 2ms/step - accuracy: 0.6535 - loss: 0.6793 - precision: 0.5728 - recall: 0.4385 - val_accuracy: 0.6537 - val_loss: 0.6900 - val_precision: 0.7179 - val_recall: 0.2105\n",
      "Epoch 75/100\n",
      "\u001b[1m42/42\u001b[0m \u001b[32m━━━━━━━━━━━━━━━━━━━━\u001b[0m\u001b[37m\u001b[0m \u001b[1m0s\u001b[0m 2ms/step - accuracy: 0.6848 - loss: 0.5941 - precision: 0.6138 - recall: 0.4698 - val_accuracy: 0.6687 - val_loss: 0.6363 - val_precision: 0.8235 - val_recall: 0.2105\n",
      "Epoch 76/100\n",
      "\u001b[1m42/42\u001b[0m \u001b[32m━━━━━━━━━━━━━━━━━━━━\u001b[0m\u001b[37m\u001b[0m \u001b[1m0s\u001b[0m 2ms/step - accuracy: 0.6682 - loss: 0.6146 - precision: 0.5971 - recall: 0.4227 - val_accuracy: 0.6716 - val_loss: 0.6041 - val_precision: 0.6162 - val_recall: 0.4586\n",
      "Epoch 77/100\n",
      "\u001b[1m42/42\u001b[0m \u001b[32m━━━━━━━━━━━━━━━━━━━━\u001b[0m\u001b[37m\u001b[0m \u001b[1m0s\u001b[0m 2ms/step - accuracy: 0.6874 - loss: 0.6124 - precision: 0.6305 - recall: 0.4984 - val_accuracy: 0.6478 - val_loss: 0.6342 - val_precision: 0.5564 - val_recall: 0.5564\n",
      "Epoch 78/100\n",
      "\u001b[1m42/42\u001b[0m \u001b[32m━━━━━━━━━━━━━━━━━━━━\u001b[0m\u001b[37m\u001b[0m \u001b[1m0s\u001b[0m 2ms/step - accuracy: 0.6778 - loss: 0.5968 - precision: 0.6008 - recall: 0.4953 - val_accuracy: 0.4955 - val_loss: 0.8951 - val_precision: 0.4392 - val_recall: 0.9774\n",
      "Epoch 79/100\n",
      "\u001b[1m42/42\u001b[0m \u001b[32m━━━━━━━━━━━━━━━━━━━━\u001b[0m\u001b[37m\u001b[0m \u001b[1m0s\u001b[0m 2ms/step - accuracy: 0.6424 - loss: 0.6737 - precision: 0.5404 - recall: 0.5462 - val_accuracy: 0.5940 - val_loss: 0.6656 - val_precision: 0.4928 - val_recall: 0.7669\n",
      "Epoch 80/100\n",
      "\u001b[1m42/42\u001b[0m \u001b[32m━━━━━━━━━━━━━━━━━━━━\u001b[0m\u001b[37m\u001b[0m \u001b[1m0s\u001b[0m 2ms/step - accuracy: 0.6920 - loss: 0.6042 - precision: 0.6240 - recall: 0.4912 - val_accuracy: 0.5194 - val_loss: 0.7725 - val_precision: 0.4500 - val_recall: 0.9474\n",
      "Epoch 81/100\n",
      "\u001b[1m42/42\u001b[0m \u001b[32m━━━━━━━━━━━━━━━━━━━━\u001b[0m\u001b[37m\u001b[0m \u001b[1m0s\u001b[0m 2ms/step - accuracy: 0.6297 - loss: 0.7054 - precision: 0.5313 - recall: 0.5073 - val_accuracy: 0.6388 - val_loss: 0.6110 - val_precision: 0.5345 - val_recall: 0.6992\n",
      "Epoch 82/100\n",
      "\u001b[1m42/42\u001b[0m \u001b[32m━━━━━━━━━━━━━━━━━━━━\u001b[0m\u001b[37m\u001b[0m \u001b[1m0s\u001b[0m 2ms/step - accuracy: 0.6934 - loss: 0.5998 - precision: 0.6121 - recall: 0.5129 - val_accuracy: 0.6836 - val_loss: 0.5940 - val_precision: 0.7077 - val_recall: 0.3459\n",
      "Epoch 83/100\n",
      "\u001b[1m42/42\u001b[0m \u001b[32m━━━━━━━━━━━━━━━━━━━━\u001b[0m\u001b[37m\u001b[0m \u001b[1m0s\u001b[0m 2ms/step - accuracy: 0.7031 - loss: 0.5954 - precision: 0.6458 - recall: 0.4444 - val_accuracy: 0.6776 - val_loss: 0.6340 - val_precision: 0.8049 - val_recall: 0.2481\n",
      "Epoch 84/100\n",
      "\u001b[1m42/42\u001b[0m \u001b[32m━━━━━━━━━━━━━━━━━━━━\u001b[0m\u001b[37m\u001b[0m \u001b[1m0s\u001b[0m 2ms/step - accuracy: 0.6209 - loss: 0.8261 - precision: 0.5281 - recall: 0.4102 - val_accuracy: 0.5731 - val_loss: 0.7145 - val_precision: 0.4786 - val_recall: 0.8421\n",
      "Epoch 85/100\n",
      "\u001b[1m42/42\u001b[0m \u001b[32m━━━━━━━━━━━━━━━━━━━━\u001b[0m\u001b[37m\u001b[0m \u001b[1m0s\u001b[0m 2ms/step - accuracy: 0.6566 - loss: 0.6685 - precision: 0.5609 - recall: 0.4864 - val_accuracy: 0.6597 - val_loss: 0.6254 - val_precision: 0.7714 - val_recall: 0.2030\n",
      "Epoch 86/100\n",
      "\u001b[1m42/42\u001b[0m \u001b[32m━━━━━━━━━━━━━━━━━━━━\u001b[0m\u001b[37m\u001b[0m \u001b[1m0s\u001b[0m 2ms/step - accuracy: 0.6895 - loss: 0.5702 - precision: 0.6487 - recall: 0.4405 - val_accuracy: 0.6806 - val_loss: 0.6222 - val_precision: 0.8095 - val_recall: 0.2556\n",
      "Epoch 87/100\n",
      "\u001b[1m42/42\u001b[0m \u001b[32m━━━━━━━━━━━━━━━━━━━━\u001b[0m\u001b[37m\u001b[0m \u001b[1m0s\u001b[0m 2ms/step - accuracy: 0.6732 - loss: 0.6105 - precision: 0.6193 - recall: 0.4776 - val_accuracy: 0.6746 - val_loss: 0.6028 - val_precision: 0.7222 - val_recall: 0.2932\n",
      "Epoch 88/100\n",
      "\u001b[1m42/42\u001b[0m \u001b[32m━━━━━━━━━━━━━━━━━━━━\u001b[0m\u001b[37m\u001b[0m \u001b[1m0s\u001b[0m 2ms/step - accuracy: 0.6758 - loss: 0.6025 - precision: 0.6012 - recall: 0.5305 - val_accuracy: 0.5612 - val_loss: 0.7020 - val_precision: 0.4711 - val_recall: 0.8571\n",
      "Epoch 89/100\n",
      "\u001b[1m42/42\u001b[0m \u001b[32m━━━━━━━━━━━━━━━━━━━━\u001b[0m\u001b[37m\u001b[0m \u001b[1m0s\u001b[0m 2ms/step - accuracy: 0.6710 - loss: 0.6238 - precision: 0.5798 - recall: 0.5560 - val_accuracy: 0.6537 - val_loss: 0.6733 - val_precision: 0.5739 - val_recall: 0.4962\n",
      "Epoch 90/100\n",
      "\u001b[1m42/42\u001b[0m \u001b[32m━━━━━━━━━━━━━━━━━━━━\u001b[0m\u001b[37m\u001b[0m \u001b[1m0s\u001b[0m 2ms/step - accuracy: 0.6856 - loss: 0.5779 - precision: 0.6159 - recall: 0.5276 - val_accuracy: 0.6746 - val_loss: 0.6058 - val_precision: 0.7609 - val_recall: 0.2632\n",
      "Epoch 91/100\n",
      "\u001b[1m42/42\u001b[0m \u001b[32m━━━━━━━━━━━━━━━━━━━━\u001b[0m\u001b[37m\u001b[0m \u001b[1m0s\u001b[0m 2ms/step - accuracy: 0.6701 - loss: 0.6187 - precision: 0.5868 - recall: 0.4506 - val_accuracy: 0.6060 - val_loss: 0.6632 - val_precision: 0.5023 - val_recall: 0.8271\n",
      "Epoch 92/100\n",
      "\u001b[1m42/42\u001b[0m \u001b[32m━━━━━━━━━━━━━━━━━━━━\u001b[0m\u001b[37m\u001b[0m \u001b[1m0s\u001b[0m 2ms/step - accuracy: 0.7062 - loss: 0.5775 - precision: 0.6439 - recall: 0.4828 - val_accuracy: 0.6776 - val_loss: 0.5923 - val_precision: 0.7551 - val_recall: 0.2782\n",
      "Epoch 93/100\n",
      "\u001b[1m42/42\u001b[0m \u001b[32m━━━━━━━━━━━━━━━━━━━━\u001b[0m\u001b[37m\u001b[0m \u001b[1m0s\u001b[0m 2ms/step - accuracy: 0.6954 - loss: 0.5975 - precision: 0.6477 - recall: 0.4785 - val_accuracy: 0.6537 - val_loss: 0.6605 - val_precision: 0.6809 - val_recall: 0.2406\n",
      "Epoch 94/100\n",
      "\u001b[1m42/42\u001b[0m \u001b[32m━━━━━━━━━━━━━━━━━━━━\u001b[0m\u001b[37m\u001b[0m \u001b[1m0s\u001b[0m 2ms/step - accuracy: 0.6780 - loss: 0.5964 - precision: 0.6103 - recall: 0.4649 - val_accuracy: 0.6269 - val_loss: 0.6024 - val_precision: 0.5238 - val_recall: 0.6617\n",
      "Epoch 95/100\n",
      "\u001b[1m42/42\u001b[0m \u001b[32m━━━━━━━━━━━━━━━━━━━━\u001b[0m\u001b[37m\u001b[0m \u001b[1m0s\u001b[0m 2ms/step - accuracy: 0.6855 - loss: 0.5993 - precision: 0.6127 - recall: 0.5267 - val_accuracy: 0.5910 - val_loss: 0.6938 - val_precision: 0.4910 - val_recall: 0.8195\n",
      "Epoch 96/100\n",
      "\u001b[1m42/42\u001b[0m \u001b[32m━━━━━━━━━━━━━━━━━━━━\u001b[0m\u001b[37m\u001b[0m \u001b[1m0s\u001b[0m 2ms/step - accuracy: 0.6647 - loss: 0.6045 - precision: 0.5824 - recall: 0.5119 - val_accuracy: 0.6657 - val_loss: 0.6352 - val_precision: 0.6129 - val_recall: 0.4286\n",
      "Epoch 97/100\n",
      "\u001b[1m42/42\u001b[0m \u001b[32m━━━━━━━━━━━━━━━━━━━━\u001b[0m\u001b[37m\u001b[0m \u001b[1m0s\u001b[0m 2ms/step - accuracy: 0.6700 - loss: 0.6134 - precision: 0.5787 - recall: 0.5111 - val_accuracy: 0.6179 - val_loss: 0.8355 - val_precision: 0.5197 - val_recall: 0.4962\n",
      "Epoch 98/100\n",
      "\u001b[1m42/42\u001b[0m \u001b[32m━━━━━━━━━━━━━━━━━━━━\u001b[0m\u001b[37m\u001b[0m \u001b[1m0s\u001b[0m 2ms/step - accuracy: 0.6339 - loss: 0.7006 - precision: 0.5419 - recall: 0.5440 - val_accuracy: 0.6567 - val_loss: 0.6222 - val_precision: 0.6406 - val_recall: 0.3083\n",
      "Epoch 99/100\n",
      "\u001b[1m42/42\u001b[0m \u001b[32m━━━━━━━━━━━━━━━━━━━━\u001b[0m\u001b[37m\u001b[0m \u001b[1m0s\u001b[0m 2ms/step - accuracy: 0.6514 - loss: 0.6323 - precision: 0.5920 - recall: 0.4798 - val_accuracy: 0.6866 - val_loss: 0.5832 - val_precision: 0.6321 - val_recall: 0.5038\n",
      "Epoch 100/100\n",
      "\u001b[1m42/42\u001b[0m \u001b[32m━━━━━━━━━━━━━━━━━━━━\u001b[0m\u001b[37m\u001b[0m \u001b[1m0s\u001b[0m 2ms/step - accuracy: 0.6965 - loss: 0.6082 - precision: 0.6154 - recall: 0.4872 - val_accuracy: 0.6776 - val_loss: 0.6134 - val_precision: 0.8788 - val_recall: 0.2180\n"
     ]
    }
   ],
   "source": [
    "history = model.fit(X_train, y_train_numeric,  # Make sure your y_train is numeric\n",
    "                    epochs=100,  # Number of epochs: Adjust based on when you see convergence\n",
    "                    batch_size=32,  # Batch size: You can adjust this\n",
    "                    validation_split=0.2,  # Use part of the training data for validation\n",
    "                    verbose=1)  # Show training log"
   ]
  },
  {
   "cell_type": "markdown",
   "id": "a7fbefa7",
   "metadata": {},
   "source": [
    "# Evaluating the Neural Network on Test Data\n",
    "\n",
    "After training the neural network, it is crucial to assess its performance on an independent test dataset. This step helps verify the model's generalizability and effectiveness in predicting new, unseen data, which is critical for practical applications."
   ]
  },
  {
   "cell_type": "code",
   "execution_count": 10,
   "id": "0b7efaf3",
   "metadata": {},
   "outputs": [
    {
     "name": "stdout",
     "output_type": "stream",
     "text": [
      "\u001b[1m23/23\u001b[0m \u001b[32m━━━━━━━━━━━━━━━━━━━━\u001b[0m\u001b[37m\u001b[0m \u001b[1m0s\u001b[0m 1ms/step - accuracy: 0.6858 - loss: 0.6239 - precision: 0.7232 - recall: 0.2360 \n",
      "Test Loss: 0.6220178008079529\n",
      "Test Accuracy: 0.6768802404403687\n",
      "Test Precision: 0.7529411911964417\n",
      "Test Recall: 0.2327272742986679\n"
     ]
    }
   ],
   "source": [
    "# Evaluate the model on the test data\n",
    "test_results = model.evaluate(X_test, y_test_numeric, verbose=1)\n",
    "\n",
    "print(f\"Test Loss: {test_results[0]}\")\n",
    "print(f\"Test Accuracy: {test_results[1]}\")\n",
    "print(f\"Test Precision: {test_results[2]}\")\n",
    "print(f\"Test Recall: {test_results[3]}\")"
   ]
  },
  {
   "cell_type": "markdown",
   "id": "2255624a",
   "metadata": {},
   "source": [
    "# Visualizing Training and Validation Metrics\n",
    "\n",
    "To assess the performance of the neural network over the course of its training, we plot both the accuracy and loss metrics for each epoch. These plots provide visual insights into how well the model is learning and generalizing to unseen data over time, which is crucial for identifying signs of overfitting or underfitting."
   ]
  },
  {
   "cell_type": "code",
   "execution_count": 11,
   "id": "0aa074fa",
   "metadata": {},
   "outputs": [
    {
     "data": {
      "image/png": "[encoded data removed]",
      "text/plain": [
       "<Figure size 640x480 with 1 Axes>"
      ]
     },
     "metadata": {},
     "output_type": "display_data"
    },
    {
     "data": {
      "image/png": "[encoded data removed]",
      "text/plain": [
       "<Figure size 640x480 with 1 Axes>"
      ]
     },
     "metadata": {},
     "output_type": "display_data"
    }
   ],
   "source": [
    "# Plot training & validation accuracy values\n",
    "plt.plot(history.history['accuracy'])\n",
    "plt.plot(history.history['val_accuracy'])\n",
    "plt.title('Model accuracy')\n",
    "plt.ylabel('Accuracy')\n",
    "plt.xlabel('Epoch')\n",
    "plt.legend(['Train', 'Test'], loc='upper left')\n",
    "plt.show()\n",
    "\n",
    "# Plot training & validation loss values\n",
    "plt.plot(history.history['loss'])\n",
    "plt.plot(history.history['val_loss'])\n",
    "plt.title('Model loss')\n",
    "plt.ylabel('Loss')\n",
    "plt.xlabel('Epoch')\n",
    "plt.legend(['Train', 'Test'], loc='upper left')\n",
    "plt.show()"
   ]
  },
  {
   "cell_type": "markdown",
   "id": "5ae2c96c",
   "metadata": {},
   "source": [
    "# Support Vector Machine (SVM) Classifier Setup, Training, and Evaluation\n",
    "\n",
    "In this section, we implement a Support Vector Machine (SVM) classifier to predict whether sheep are sick based on various physiological parameters. SVM is known for its effectiveness in high-dimensional spaces and its ability to model non-linear decision boundaries using different kernel functions."
   ]
  },
  {
   "cell_type": "code",
   "execution_count": 12,
   "id": "a19e869e",
   "metadata": {},
   "outputs": [
    {
     "name": "stdout",
     "output_type": "stream",
     "text": [
      "Accuracy: 0.6379\n",
      "Precision: 0.5824\n",
      "Recall: 0.1927\n",
      "F1 Score: 0.2896\n",
      "ROC AUC: 0.5535\n"
     ]
    }
   ],
   "source": [
    "# Create a SVM classifier\n",
    "svm_model = SVC(kernel='linear')  # You can change the kernel to 'rbf', 'poly', etc., based on your data\n",
    "\n",
    "# Train the model\n",
    "svm_model.fit(X_train, y_train_numeric)\n",
    "\n",
    "# Evaluate the model\n",
    "evaluate_model(svm_model, X_test, y_test_numeric)"
   ]
  },
  {
   "cell_type": "markdown",
   "id": "4046dc1c",
   "metadata": {},
   "source": [
    "# Gaussian Naive Bayes Classifier Implementation and Evaluation\n",
    "\n",
    "This section details the implementation of a Gaussian Naive Bayes (NB) classifier for predicting whether sheep are exhibiting symptoms of illness. The Naive Bayes classifier applies Bayes' theorem with the assumption of independence between predictors. Gaussian NB is particularly suited for continuous input variables and assumes that the features follow a normal distribution."
   ]
  },
  {
   "cell_type": "code",
   "execution_count": 13,
   "id": "da0283ad",
   "metadata": {},
   "outputs": [
    {
     "name": "stdout",
     "output_type": "stream",
     "text": [
      "Accuracy: 0.6908\n",
      "Precision: 0.7524\n",
      "Recall: 0.2873\n",
      "F1 Score: 0.4158\n",
      "ROC AUC: 0.6143\n"
     ]
    }
   ],
   "source": [
    "# Create a Gaussian Naive Bayes model\n",
    "nb_model = GaussianNB()\n",
    "\n",
    "# Train the model\n",
    "nb_model.fit(X_train, y_train_numeric)\n",
    "\n",
    "# Evaluate the model\n",
    "evaluate_model(nb_model, X_test, y_test_numeric)"
   ]
  },
  {
   "cell_type": "markdown",
   "id": "17d8d973",
   "metadata": {},
   "source": [
    "# Preparing Data and Configuring LSTM Neural Network for Classification\n",
    "\n",
    "In this section, we configure an LSTM neural network to classify whether sheep are showing symptoms of illness. LSTMs are particularly suited for sequence prediction problems due to their ability to retain information over long periods, making them ideal for time-series data or cases where the temporal sequence of data points is crucial."
   ]
  },
  {
   "cell_type": "code",
   "execution_count": 14,
   "id": "da40c596",
   "metadata": {},
   "outputs": [
    {
     "name": "stderr",
     "output_type": "stream",
     "text": [
      "C:\\Anaconda\\lib\\site-packages\\keras\\src\\layers\\rnn\\rnn.py:204: UserWarning: Do not pass an `input_shape`/`input_dim` argument to a layer. When using Sequential models, prefer using an `Input(shape)` object as the first layer in the model instead.\n",
      "  super().__init__(**kwargs)\n"
     ]
    },
    {
     "data": {
      "text/html": [
       "<pre style=\"white-space:pre;overflow-x:auto;line-height:normal;font-family:Menlo,'DejaVu Sans Mono',consolas,'Courier New',monospace\"><span style=\"font-weight: bold\">Model: \"sequential_1\"</span>\n",
       "</pre>\n"
      ],
      "text/plain": [
       "\u001b[1mModel: \"sequential_1\"\u001b[0m\n"
      ]
     },
     "metadata": {},
     "output_type": "display_data"
    },
    {
     "data": {
      "text/html": [
       "<pre style=\"white-space:pre;overflow-x:auto;line-height:normal;font-family:Menlo,'DejaVu Sans Mono',consolas,'Courier New',monospace\">┏━━━━━━━━━━━━━━━━━━━━━━━━━━━━━━━━━━━━━━┳━━━━━━━━━━━━━━━━━━━━━━━━━━━━━┳━━━━━━━━━━━━━━━━━┓\n",
       "┃<span style=\"font-weight: bold\"> Layer (type)                         </span>┃<span style=\"font-weight: bold\"> Output Shape                </span>┃<span style=\"font-weight: bold\">         Param # </span>┃\n",
       "┡━━━━━━━━━━━━━━━━━━━━━━━━━━━━━━━━━━━━━━╇━━━━━━━━━━━━━━━━━━━━━━━━━━━━━╇━━━━━━━━━━━━━━━━━┩\n",
       "│ lstm (<span style=\"color: #0087ff; text-decoration-color: #0087ff\">LSTM</span>)                          │ (<span style=\"color: #00d7ff; text-decoration-color: #00d7ff\">None</span>, <span style=\"color: #00af00; text-decoration-color: #00af00\">50</span>)                  │          <span style=\"color: #00af00; text-decoration-color: #00af00\">10,400</span> │\n",
       "├──────────────────────────────────────┼─────────────────────────────┼─────────────────┤\n",
       "│ dense_3 (<span style=\"color: #0087ff; text-decoration-color: #0087ff\">Dense</span>)                      │ (<span style=\"color: #00d7ff; text-decoration-color: #00d7ff\">None</span>, <span style=\"color: #00af00; text-decoration-color: #00af00\">1</span>)                   │              <span style=\"color: #00af00; text-decoration-color: #00af00\">51</span> │\n",
       "└──────────────────────────────────────┴─────────────────────────────┴─────────────────┘\n",
       "</pre>\n"
      ],
      "text/plain": [
       "┏━━━━━━━━━━━━━━━━━━━━━━━━━━━━━━━━━━━━━━┳━━━━━━━━━━━━━━━━━━━━━━━━━━━━━┳━━━━━━━━━━━━━━━━━┓\n",
       "┃\u001b[1m \u001b[0m\u001b[1mLayer (type)                        \u001b[0m\u001b[1m \u001b[0m┃\u001b[1m \u001b[0m\u001b[1mOutput Shape               \u001b[0m\u001b[1m \u001b[0m┃\u001b[1m \u001b[0m\u001b[1m        Param #\u001b[0m\u001b[1m \u001b[0m┃\n",
       "┡━━━━━━━━━━━━━━━━━━━━━━━━━━━━━━━━━━━━━━╇━━━━━━━━━━━━━━━━━━━━━━━━━━━━━╇━━━━━━━━━━━━━━━━━┩\n",
       "│ lstm (\u001b[38;5;33mLSTM\u001b[0m)                          │ (\u001b[38;5;45mNone\u001b[0m, \u001b[38;5;34m50\u001b[0m)                  │          \u001b[38;5;34m10,400\u001b[0m │\n",
       "├──────────────────────────────────────┼─────────────────────────────┼─────────────────┤\n",
       "│ dense_3 (\u001b[38;5;33mDense\u001b[0m)                      │ (\u001b[38;5;45mNone\u001b[0m, \u001b[38;5;34m1\u001b[0m)                   │              \u001b[38;5;34m51\u001b[0m │\n",
       "└──────────────────────────────────────┴─────────────────────────────┴─────────────────┘\n"
      ]
     },
     "metadata": {},
     "output_type": "display_data"
    },
    {
     "data": {
      "text/html": [
       "<pre style=\"white-space:pre;overflow-x:auto;line-height:normal;font-family:Menlo,'DejaVu Sans Mono',consolas,'Courier New',monospace\"><span style=\"font-weight: bold\"> Total params: </span><span style=\"color: #00af00; text-decoration-color: #00af00\">10,451</span> (40.82 KB)\n",
       "</pre>\n"
      ],
      "text/plain": [
       "\u001b[1m Total params: \u001b[0m\u001b[38;5;34m10,451\u001b[0m (40.82 KB)\n"
      ]
     },
     "metadata": {},
     "output_type": "display_data"
    },
    {
     "data": {
      "text/html": [
       "<pre style=\"white-space:pre;overflow-x:auto;line-height:normal;font-family:Menlo,'DejaVu Sans Mono',consolas,'Courier New',monospace\"><span style=\"font-weight: bold\"> Trainable params: </span><span style=\"color: #00af00; text-decoration-color: #00af00\">10,451</span> (40.82 KB)\n",
       "</pre>\n"
      ],
      "text/plain": [
       "\u001b[1m Trainable params: \u001b[0m\u001b[38;5;34m10,451\u001b[0m (40.82 KB)\n"
      ]
     },
     "metadata": {},
     "output_type": "display_data"
    },
    {
     "data": {
      "text/html": [
       "<pre style=\"white-space:pre;overflow-x:auto;line-height:normal;font-family:Menlo,'DejaVu Sans Mono',consolas,'Courier New',monospace\"><span style=\"font-weight: bold\"> Non-trainable params: </span><span style=\"color: #00af00; text-decoration-color: #00af00\">0</span> (0.00 B)\n",
       "</pre>\n"
      ],
      "text/plain": [
       "\u001b[1m Non-trainable params: \u001b[0m\u001b[38;5;34m0\u001b[0m (0.00 B)\n"
      ]
     },
     "metadata": {},
     "output_type": "display_data"
    }
   ],
   "source": [
    "# Convert DataFrame to NumPy array\n",
    "X_train_array = X_train.to_numpy()\n",
    "X_test_array = X_test.to_numpy()\n",
    "\n",
    "# Now, reshape the data for LSTM [samples, time steps, features]\n",
    "X_train_reshaped = X_train_array.reshape((X_train_array.shape[0], X_train_array.shape[1], 1))\n",
    "X_test_reshaped = X_test_array.reshape((X_test_array.shape[0], X_test_array.shape[1], 1))\n",
    "\n",
    "model = Sequential([\n",
    "    # LSTM layer with 50 units, relu activation; adjust based on your needs\n",
    "    LSTM(50, activation='relu', input_shape=(X_train.shape[1], 1)),\n",
    "    # Output layer for binary classification\n",
    "    Dense(1, activation='sigmoid')\n",
    "])\n",
    "\n",
    "model.compile(optimizer='adam',\n",
    "              loss='binary_crossentropy',\n",
    "              metrics=['accuracy', 'Precision', 'Recall'])\n",
    "\n",
    "model.summary()"
   ]
  },
  {
   "cell_type": "markdown",
   "id": "25ea6097",
   "metadata": {},
   "source": [
    "# Training the LSTM Neural Network\n",
    "\n",
    "After configuring the LSTM model, the next critical step is training it on the prepared dataset. This process involves feeding the reshaped training data to the model and iteratively adjusting the internal parameters to minimize the prediction error."
   ]
  },
  {
   "cell_type": "code",
   "execution_count": 15,
   "id": "19cb13c6",
   "metadata": {},
   "outputs": [
    {
     "name": "stdout",
     "output_type": "stream",
     "text": [
      "Epoch 1/100\n",
      "\u001b[1m42/42\u001b[0m \u001b[32m━━━━━━━━━━━━━━━━━━━━\u001b[0m\u001b[37m\u001b[0m \u001b[1m2s\u001b[0m 10ms/step - Precision: 0.4230 - Recall: 0.5817 - accuracy: 0.5183 - loss: 2.1314 - val_Precision: 0.3853 - val_Recall: 0.3158 - val_accuracy: 0.5284 - val_loss: 0.6802\n",
      "Epoch 2/100\n",
      "\u001b[1m42/42\u001b[0m \u001b[32m━━━━━━━━━━━━━━━━━━━━\u001b[0m\u001b[37m\u001b[0m \u001b[1m0s\u001b[0m 3ms/step - Precision: 0.4661 - Recall: 0.2077 - accuracy: 0.5959 - loss: 0.6651 - val_Precision: 0.6875 - val_Recall: 0.0827 - val_accuracy: 0.6209 - val_loss: 0.6551\n",
      "Epoch 3/100\n",
      "\u001b[1m42/42\u001b[0m \u001b[32m━━━━━━━━━━━━━━━━━━━━\u001b[0m\u001b[37m\u001b[0m \u001b[1m0s\u001b[0m 3ms/step - Precision: 0.6526 - Recall: 0.1238 - accuracy: 0.6329 - loss: 0.6424 - val_Precision: 0.6111 - val_Recall: 0.1654 - val_accuracy: 0.6269 - val_loss: 0.6376\n",
      "Epoch 4/100\n",
      "\u001b[1m42/42\u001b[0m \u001b[32m━━━━━━━━━━━━━━━━━━━━\u001b[0m\u001b[37m\u001b[0m \u001b[1m0s\u001b[0m 3ms/step - Precision: 0.5934 - Recall: 0.2200 - accuracy: 0.6455 - loss: 0.6284 - val_Precision: 0.8000 - val_Recall: 0.1805 - val_accuracy: 0.6567 - val_loss: 0.6254\n",
      "Epoch 5/100\n",
      "\u001b[1m42/42\u001b[0m \u001b[32m━━━━━━━━━━━━━━━━━━━━\u001b[0m\u001b[37m\u001b[0m \u001b[1m0s\u001b[0m 3ms/step - Precision: 0.5946 - Recall: 0.2564 - accuracy: 0.6552 - loss: 0.5969 - val_Precision: 0.5566 - val_Recall: 0.4436 - val_accuracy: 0.6388 - val_loss: 0.6037\n",
      "Epoch 6/100\n",
      "\u001b[1m42/42\u001b[0m \u001b[32m━━━━━━━━━━━━━━━━━━━━\u001b[0m\u001b[37m\u001b[0m \u001b[1m0s\u001b[0m 3ms/step - Precision: 0.6173 - Recall: 0.3470 - accuracy: 0.6637 - loss: 0.5875 - val_Precision: 0.5960 - val_Recall: 0.4436 - val_accuracy: 0.6597 - val_loss: 0.5930\n",
      "Epoch 7/100\n",
      "\u001b[1m42/42\u001b[0m \u001b[32m━━━━━━━━━━━━━━━━━━━━\u001b[0m\u001b[37m\u001b[0m \u001b[1m0s\u001b[0m 3ms/step - Precision: 0.6259 - Recall: 0.4531 - accuracy: 0.6721 - loss: 0.5709 - val_Precision: 0.5135 - val_Recall: 0.5714 - val_accuracy: 0.6149 - val_loss: 0.6199\n",
      "Epoch 8/100\n",
      "\u001b[1m42/42\u001b[0m \u001b[32m━━━━━━━━━━━━━━━━━━━━\u001b[0m\u001b[37m\u001b[0m \u001b[1m0s\u001b[0m 4ms/step - Precision: 0.6906 - Recall: 0.3885 - accuracy: 0.6923 - loss: 0.5842 - val_Precision: 0.5893 - val_Recall: 0.4962 - val_accuracy: 0.6627 - val_loss: 0.5795\n",
      "Epoch 9/100\n",
      "\u001b[1m42/42\u001b[0m \u001b[32m━━━━━━━━━━━━━━━━━━━━\u001b[0m\u001b[37m\u001b[0m \u001b[1m0s\u001b[0m 3ms/step - Precision: 0.6772 - Recall: 0.5075 - accuracy: 0.7181 - loss: 0.5471 - val_Precision: 0.6429 - val_Recall: 0.4737 - val_accuracy: 0.6866 - val_loss: 0.5602\n",
      "Epoch 10/100\n",
      "\u001b[1m42/42\u001b[0m \u001b[32m━━━━━━━━━━━━━━━━━━━━\u001b[0m\u001b[37m\u001b[0m \u001b[1m0s\u001b[0m 3ms/step - Precision: 0.6615 - Recall: 0.4717 - accuracy: 0.6999 - loss: 0.5204 - val_Precision: 0.6154 - val_Recall: 0.4812 - val_accuracy: 0.6746 - val_loss: 0.5468\n",
      "Epoch 11/100\n",
      "\u001b[1m42/42\u001b[0m \u001b[32m━━━━━━━━━━━━━━━━━━━━\u001b[0m\u001b[37m\u001b[0m \u001b[1m0s\u001b[0m 3ms/step - Precision: 0.6701 - Recall: 0.4281 - accuracy: 0.7170 - loss: 0.4957 - val_Precision: 0.6058 - val_Recall: 0.4737 - val_accuracy: 0.6687 - val_loss: 0.5392\n",
      "Epoch 12/100\n",
      "\u001b[1m42/42\u001b[0m \u001b[32m━━━━━━━━━━━━━━━━━━━━\u001b[0m\u001b[37m\u001b[0m \u001b[1m0s\u001b[0m 3ms/step - Precision: 0.7328 - Recall: 0.4333 - accuracy: 0.7113 - loss: 0.5006 - val_Precision: 0.6392 - val_Recall: 0.4662 - val_accuracy: 0.6836 - val_loss: 0.5433\n",
      "Epoch 13/100\n",
      "\u001b[1m42/42\u001b[0m \u001b[32m━━━━━━━━━━━━━━━━━━━━\u001b[0m\u001b[37m\u001b[0m \u001b[1m0s\u001b[0m 3ms/step - Precision: 0.6804 - Recall: 0.4736 - accuracy: 0.7060 - loss: 0.5021 - val_Precision: 0.6915 - val_Recall: 0.4887 - val_accuracy: 0.7104 - val_loss: 0.5174\n",
      "Epoch 14/100\n",
      "\u001b[1m42/42\u001b[0m \u001b[32m━━━━━━━━━━━━━━━━━━━━\u001b[0m\u001b[37m\u001b[0m \u001b[1m0s\u001b[0m 4ms/step - Precision: 0.7446 - Recall: 0.4534 - accuracy: 0.7241 - loss: 0.4969 - val_Precision: 0.8750 - val_Recall: 0.2632 - val_accuracy: 0.6925 - val_loss: 0.5561\n",
      "Epoch 15/100\n",
      "\u001b[1m42/42\u001b[0m \u001b[32m━━━━━━━━━━━━━━━━━━━━\u001b[0m\u001b[37m\u001b[0m \u001b[1m0s\u001b[0m 4ms/step - Precision: 0.7761 - Recall: 0.3278 - accuracy: 0.7101 - loss: 0.5098 - val_Precision: 0.6355 - val_Recall: 0.5113 - val_accuracy: 0.6896 - val_loss: 0.5105\n",
      "Epoch 16/100\n",
      "\u001b[1m42/42\u001b[0m \u001b[32m━━━━━━━━━━━━━━━━━━━━\u001b[0m\u001b[37m\u001b[0m \u001b[1m0s\u001b[0m 3ms/step - Precision: 0.7131 - Recall: 0.5158 - accuracy: 0.7367 - loss: 0.4786 - val_Precision: 0.6525 - val_Recall: 0.5789 - val_accuracy: 0.7104 - val_loss: 0.5013\n",
      "Epoch 17/100\n",
      "\u001b[1m42/42\u001b[0m \u001b[32m━━━━━━━━━━━━━━━━━━━━\u001b[0m\u001b[37m\u001b[0m \u001b[1m0s\u001b[0m 3ms/step - Precision: 0.7652 - Recall: 0.5457 - accuracy: 0.7621 - loss: 0.4648 - val_Precision: 0.6634 - val_Recall: 0.5038 - val_accuracy: 0.7015 - val_loss: 0.4952\n",
      "Epoch 18/100\n",
      "\u001b[1m42/42\u001b[0m \u001b[32m━━━━━━━━━━━━━━━━━━━━\u001b[0m\u001b[37m\u001b[0m \u001b[1m0s\u001b[0m 4ms/step - Precision: 0.7152 - Recall: 0.4950 - accuracy: 0.7337 - loss: 0.4797 - val_Precision: 0.7363 - val_Recall: 0.5038 - val_accuracy: 0.7313 - val_loss: 0.4696\n",
      "Epoch 19/100\n",
      "\u001b[1m42/42\u001b[0m \u001b[32m━━━━━━━━━━━━━━━━━━━━\u001b[0m\u001b[37m\u001b[0m \u001b[1m0s\u001b[0m 3ms/step - Precision: 0.7545 - Recall: 0.5616 - accuracy: 0.7507 - loss: 0.4368 - val_Precision: 0.6947 - val_Recall: 0.4962 - val_accuracy: 0.7134 - val_loss: 0.4840\n",
      "Epoch 20/100\n",
      "\u001b[1m42/42\u001b[0m \u001b[32m━━━━━━━━━━━━━━━━━━━━\u001b[0m\u001b[37m\u001b[0m \u001b[1m0s\u001b[0m 3ms/step - Precision: 0.7330 - Recall: 0.5506 - accuracy: 0.7457 - loss: 0.4344 - val_Precision: 0.8028 - val_Recall: 0.4286 - val_accuracy: 0.7313 - val_loss: 0.4641\n",
      "Epoch 21/100\n",
      "\u001b[1m42/42\u001b[0m \u001b[32m━━━━━━━━━━━━━━━━━━━━\u001b[0m\u001b[37m\u001b[0m \u001b[1m0s\u001b[0m 3ms/step - Precision: 0.7993 - Recall: 0.5485 - accuracy: 0.7793 - loss: 0.4385 - val_Precision: 0.6032 - val_Recall: 0.8571 - val_accuracy: 0.7194 - val_loss: 0.4843\n",
      "Epoch 22/100\n",
      "\u001b[1m42/42\u001b[0m \u001b[32m━━━━━━━━━━━━━━━━━━━━\u001b[0m\u001b[37m\u001b[0m \u001b[1m0s\u001b[0m 4ms/step - Precision: 0.6991 - Recall: 0.7104 - accuracy: 0.7600 - loss: 0.4257 - val_Precision: 0.6214 - val_Recall: 0.4812 - val_accuracy: 0.6776 - val_loss: 0.5055\n",
      "Epoch 23/100\n",
      "\u001b[1m42/42\u001b[0m \u001b[32m━━━━━━━━━━━━━━━━━━━━\u001b[0m\u001b[37m\u001b[0m \u001b[1m0s\u001b[0m 4ms/step - Precision: 0.7850 - Recall: 0.5068 - accuracy: 0.7629 - loss: 0.4383 - val_Precision: 0.6490 - val_Recall: 0.7368 - val_accuracy: 0.7373 - val_loss: 0.4618\n",
      "Epoch 24/100\n",
      "\u001b[1m42/42\u001b[0m \u001b[32m━━━━━━━━━━━━━━━━━━━━\u001b[0m\u001b[37m\u001b[0m \u001b[1m0s\u001b[0m 4ms/step - Precision: 0.7663 - Recall: 0.5978 - accuracy: 0.7637 - loss: 0.4382 - val_Precision: 0.7692 - val_Recall: 0.4511 - val_accuracy: 0.7284 - val_loss: 0.4368\n",
      "Epoch 25/100\n",
      "\u001b[1m42/42\u001b[0m \u001b[32m━━━━━━━━━━━━━━━━━━━━\u001b[0m\u001b[37m\u001b[0m \u001b[1m0s\u001b[0m 4ms/step - Precision: 0.7524 - Recall: 0.5729 - accuracy: 0.7523 - loss: 0.4148 - val_Precision: 0.7500 - val_Recall: 0.4962 - val_accuracy: 0.7343 - val_loss: 0.4300\n",
      "Epoch 26/100\n",
      "\u001b[1m42/42\u001b[0m \u001b[32m━━━━━━━━━━━━━━━━━━━━\u001b[0m\u001b[37m\u001b[0m \u001b[1m0s\u001b[0m 3ms/step - Precision: 0.8004 - Recall: 0.5603 - accuracy: 0.7713 - loss: 0.4218 - val_Precision: 0.6310 - val_Recall: 0.7970 - val_accuracy: 0.7343 - val_loss: 0.4792\n",
      "Epoch 27/100\n",
      "\u001b[1m42/42\u001b[0m \u001b[32m━━━━━━━━━━━━━━━━━━━━\u001b[0m\u001b[37m\u001b[0m \u001b[1m0s\u001b[0m 4ms/step - Precision: 0.7707 - Recall: 0.6879 - accuracy: 0.8071 - loss: 0.3945 - val_Precision: 0.6484 - val_Recall: 0.6241 - val_accuracy: 0.7164 - val_loss: 0.4494\n",
      "Epoch 28/100\n",
      "\u001b[1m42/42\u001b[0m \u001b[32m━━━━━━━━━━━━━━━━━━━━\u001b[0m\u001b[37m\u001b[0m \u001b[1m0s\u001b[0m 4ms/step - Precision: 0.7829 - Recall: 0.6305 - accuracy: 0.7765 - loss: 0.3963 - val_Precision: 0.6767 - val_Recall: 0.6767 - val_accuracy: 0.7433 - val_loss: 0.4375\n",
      "Epoch 29/100\n",
      "\u001b[1m42/42\u001b[0m \u001b[32m━━━━━━━━━━━━━━━━━━━━\u001b[0m\u001b[37m\u001b[0m \u001b[1m0s\u001b[0m 4ms/step - Precision: 0.7323 - Recall: 0.6786 - accuracy: 0.7824 - loss: 0.3936 - val_Precision: 0.5923 - val_Recall: 0.5789 - val_accuracy: 0.6746 - val_loss: 0.5242\n",
      "Epoch 30/100\n",
      "\u001b[1m42/42\u001b[0m \u001b[32m━━━━━━━━━━━━━━━━━━━━\u001b[0m\u001b[37m\u001b[0m \u001b[1m0s\u001b[0m 3ms/step - Precision: 0.8096 - Recall: 0.5165 - accuracy: 0.7769 - loss: 0.4261 - val_Precision: 0.7471 - val_Recall: 0.4887 - val_accuracy: 0.7313 - val_loss: 0.4462\n",
      "Epoch 31/100\n",
      "\u001b[1m42/42\u001b[0m \u001b[32m━━━━━━━━━━━━━━━━━━━━\u001b[0m\u001b[37m\u001b[0m \u001b[1m0s\u001b[0m 4ms/step - Precision: 0.7996 - Recall: 0.5376 - accuracy: 0.7852 - loss: 0.3848 - val_Precision: 0.6471 - val_Recall: 0.7444 - val_accuracy: 0.7373 - val_loss: 0.4620\n",
      "Epoch 32/100\n",
      "\u001b[1m42/42\u001b[0m \u001b[32m━━━━━━━━━━━━━━━━━━━━\u001b[0m\u001b[37m\u001b[0m \u001b[1m0s\u001b[0m 4ms/step - Precision: 0.7618 - Recall: 0.7044 - accuracy: 0.7969 - loss: 0.3864 - val_Precision: 0.7257 - val_Recall: 0.6165 - val_accuracy: 0.7552 - val_loss: 0.4266\n",
      "Epoch 33/100\n",
      "\u001b[1m42/42\u001b[0m \u001b[32m━━━━━━━━━━━━━━━━━━━━\u001b[0m\u001b[37m\u001b[0m \u001b[1m0s\u001b[0m 3ms/step - Precision: 0.7740 - Recall: 0.6956 - accuracy: 0.7980 - loss: 0.3917 - val_Precision: 0.6983 - val_Recall: 0.6090 - val_accuracy: 0.7403 - val_loss: 0.4295\n",
      "Epoch 34/100\n"
     ]
    },
    {
     "name": "stdout",
     "output_type": "stream",
     "text": [
      "\u001b[1m42/42\u001b[0m \u001b[32m━━━━━━━━━━━━━━━━━━━━\u001b[0m\u001b[37m\u001b[0m \u001b[1m0s\u001b[0m 3ms/step - Precision: 0.7713 - Recall: 0.6511 - accuracy: 0.7983 - loss: 0.3772 - val_Precision: 0.7232 - val_Recall: 0.6090 - val_accuracy: 0.7522 - val_loss: 0.4283\n",
      "Epoch 35/100\n",
      "\u001b[1m42/42\u001b[0m \u001b[32m━━━━━━━━━━━━━━━━━━━━\u001b[0m\u001b[37m\u001b[0m \u001b[1m0s\u001b[0m 3ms/step - Precision: 0.7598 - Recall: 0.5923 - accuracy: 0.7778 - loss: 0.4108 - val_Precision: 0.7364 - val_Recall: 0.7143 - val_accuracy: 0.7851 - val_loss: 0.4217\n",
      "Epoch 36/100\n",
      "\u001b[1m42/42\u001b[0m \u001b[32m━━━━━━━━━━━━━━━━━━━━\u001b[0m\u001b[37m\u001b[0m \u001b[1m0s\u001b[0m 4ms/step - Precision: 0.7680 - Recall: 0.7181 - accuracy: 0.8006 - loss: 0.3879 - val_Precision: 0.8025 - val_Recall: 0.4887 - val_accuracy: 0.7493 - val_loss: 0.4184\n",
      "Epoch 37/100\n",
      "\u001b[1m42/42\u001b[0m \u001b[32m━━━━━━━━━━━━━━━━━━━━\u001b[0m\u001b[37m\u001b[0m \u001b[1m0s\u001b[0m 4ms/step - Precision: 0.7721 - Recall: 0.6683 - accuracy: 0.7901 - loss: 0.3752 - val_Precision: 0.6757 - val_Recall: 0.7519 - val_accuracy: 0.7582 - val_loss: 0.4333\n",
      "Epoch 38/100\n",
      "\u001b[1m42/42\u001b[0m \u001b[32m━━━━━━━━━━━━━━━━━━━━\u001b[0m\u001b[37m\u001b[0m \u001b[1m0s\u001b[0m 3ms/step - Precision: 0.7930 - Recall: 0.6692 - accuracy: 0.8101 - loss: 0.3796 - val_Precision: 0.7209 - val_Recall: 0.6992 - val_accuracy: 0.7731 - val_loss: 0.4307\n",
      "Epoch 39/100\n",
      "\u001b[1m42/42\u001b[0m \u001b[32m━━━━━━━━━━━━━━━━━━━━\u001b[0m\u001b[37m\u001b[0m \u001b[1m0s\u001b[0m 3ms/step - Precision: 0.7751 - Recall: 0.7075 - accuracy: 0.8114 - loss: 0.3619 - val_Precision: 0.6528 - val_Recall: 0.7068 - val_accuracy: 0.7343 - val_loss: 0.4669\n",
      "Epoch 40/100\n",
      "\u001b[1m42/42\u001b[0m \u001b[32m━━━━━━━━━━━━━━━━━━━━\u001b[0m\u001b[37m\u001b[0m \u001b[1m0s\u001b[0m 3ms/step - Precision: 0.7802 - Recall: 0.6959 - accuracy: 0.8105 - loss: 0.3792 - val_Precision: 0.7658 - val_Recall: 0.6391 - val_accuracy: 0.7791 - val_loss: 0.4141\n",
      "Epoch 41/100\n",
      "\u001b[1m42/42\u001b[0m \u001b[32m━━━━━━━━━━━━━━━━━━━━\u001b[0m\u001b[37m\u001b[0m \u001b[1m0s\u001b[0m 4ms/step - Precision: 0.7891 - Recall: 0.6586 - accuracy: 0.8105 - loss: 0.3775 - val_Precision: 0.8333 - val_Recall: 0.4511 - val_accuracy: 0.7463 - val_loss: 0.4154\n",
      "Epoch 42/100\n",
      "\u001b[1m42/42\u001b[0m \u001b[32m━━━━━━━━━━━━━━━━━━━━\u001b[0m\u001b[37m\u001b[0m \u001b[1m0s\u001b[0m 3ms/step - Precision: 0.7776 - Recall: 0.6907 - accuracy: 0.7991 - loss: 0.3711 - val_Precision: 0.6788 - val_Recall: 0.6992 - val_accuracy: 0.7493 - val_loss: 0.4588\n",
      "Epoch 43/100\n",
      "\u001b[1m42/42\u001b[0m \u001b[32m━━━━━━━━━━━━━━━━━━━━\u001b[0m\u001b[37m\u001b[0m \u001b[1m0s\u001b[0m 3ms/step - Precision: 0.7256 - Recall: 0.6504 - accuracy: 0.7717 - loss: 0.3911 - val_Precision: 0.8684 - val_Recall: 0.4962 - val_accuracy: 0.7701 - val_loss: 0.4161\n",
      "Epoch 44/100\n",
      "\u001b[1m42/42\u001b[0m \u001b[32m━━━━━━━━━━━━━━━━━━━━\u001b[0m\u001b[37m\u001b[0m \u001b[1m0s\u001b[0m 3ms/step - Precision: 0.8360 - Recall: 0.6303 - accuracy: 0.8170 - loss: 0.3597 - val_Precision: 0.7089 - val_Recall: 0.8421 - val_accuracy: 0.8000 - val_loss: 0.4328\n",
      "Epoch 45/100\n",
      "\u001b[1m42/42\u001b[0m \u001b[32m━━━━━━━━━━━━━━━━━━━━\u001b[0m\u001b[37m\u001b[0m \u001b[1m0s\u001b[0m 3ms/step - Precision: 0.7950 - Recall: 0.7352 - accuracy: 0.8193 - loss: 0.3537 - val_Precision: 0.7975 - val_Recall: 0.4737 - val_accuracy: 0.7433 - val_loss: 0.4464\n",
      "Epoch 46/100\n",
      "\u001b[1m42/42\u001b[0m \u001b[32m━━━━━━━━━━━━━━━━━━━━\u001b[0m\u001b[37m\u001b[0m \u001b[1m0s\u001b[0m 3ms/step - Precision: 0.7276 - Recall: 0.7006 - accuracy: 0.7708 - loss: 0.4155 - val_Precision: 0.8132 - val_Recall: 0.5564 - val_accuracy: 0.7731 - val_loss: 0.4287\n",
      "Epoch 47/100\n",
      "\u001b[1m42/42\u001b[0m \u001b[32m━━━━━━━━━━━━━━━━━━━━\u001b[0m\u001b[37m\u001b[0m \u001b[1m0s\u001b[0m 3ms/step - Precision: 0.8311 - Recall: 0.5931 - accuracy: 0.7990 - loss: 0.3848 - val_Precision: 0.7419 - val_Recall: 0.6917 - val_accuracy: 0.7821 - val_loss: 0.4147\n",
      "Epoch 48/100\n",
      "\u001b[1m42/42\u001b[0m \u001b[32m━━━━━━━━━━━━━━━━━━━━\u001b[0m\u001b[37m\u001b[0m \u001b[1m0s\u001b[0m 3ms/step - Precision: 0.7963 - Recall: 0.7327 - accuracy: 0.8208 - loss: 0.3498 - val_Precision: 0.7565 - val_Recall: 0.6541 - val_accuracy: 0.7791 - val_loss: 0.4111\n",
      "Epoch 49/100\n",
      "\u001b[1m42/42\u001b[0m \u001b[32m━━━━━━━━━━━━━━━━━━━━\u001b[0m\u001b[37m\u001b[0m \u001b[1m0s\u001b[0m 4ms/step - Precision: 0.7844 - Recall: 0.6911 - accuracy: 0.8138 - loss: 0.3473 - val_Precision: 0.8265 - val_Recall: 0.6090 - val_accuracy: 0.7940 - val_loss: 0.3884\n",
      "Epoch 50/100\n",
      "\u001b[1m42/42\u001b[0m \u001b[32m━━━━━━━━━━━━━━━━━━━━\u001b[0m\u001b[37m\u001b[0m \u001b[1m0s\u001b[0m 4ms/step - Precision: 0.8048 - Recall: 0.6921 - accuracy: 0.8113 - loss: 0.3463 - val_Precision: 0.7174 - val_Recall: 0.7444 - val_accuracy: 0.7821 - val_loss: 0.4152\n",
      "Epoch 51/100\n",
      "\u001b[1m42/42\u001b[0m \u001b[32m━━━━━━━━━━━━━━━━━━━━\u001b[0m\u001b[37m\u001b[0m \u001b[1m0s\u001b[0m 4ms/step - Precision: 0.7985 - Recall: 0.6437 - accuracy: 0.8038 - loss: 0.3581 - val_Precision: 0.7029 - val_Recall: 0.7293 - val_accuracy: 0.7701 - val_loss: 0.4172\n",
      "Epoch 52/100\n",
      "\u001b[1m42/42\u001b[0m \u001b[32m━━━━━━━━━━━━━━━━━━━━\u001b[0m\u001b[37m\u001b[0m \u001b[1m0s\u001b[0m 4ms/step - Precision: 0.7829 - Recall: 0.7159 - accuracy: 0.8165 - loss: 0.3343 - val_Precision: 0.7928 - val_Recall: 0.6617 - val_accuracy: 0.7970 - val_loss: 0.4018\n",
      "Epoch 53/100\n",
      "\u001b[1m42/42\u001b[0m \u001b[32m━━━━━━━━━━━━━━━━━━━━\u001b[0m\u001b[37m\u001b[0m \u001b[1m0s\u001b[0m 3ms/step - Precision: 0.7999 - Recall: 0.7555 - accuracy: 0.8224 - loss: 0.3360 - val_Precision: 0.8919 - val_Recall: 0.4962 - val_accuracy: 0.7761 - val_loss: 0.4427\n",
      "Epoch 54/100\n",
      "\u001b[1m42/42\u001b[0m \u001b[32m━━━━━━━━━━━━━━━━━━━━\u001b[0m\u001b[37m\u001b[0m \u001b[1m0s\u001b[0m 3ms/step - Precision: 0.8103 - Recall: 0.6610 - accuracy: 0.8082 - loss: 0.3786 - val_Precision: 0.6795 - val_Recall: 0.7970 - val_accuracy: 0.7701 - val_loss: 0.4400\n",
      "Epoch 55/100\n",
      "\u001b[1m42/42\u001b[0m \u001b[32m━━━━━━━━━━━━━━━━━━━━\u001b[0m\u001b[37m\u001b[0m \u001b[1m0s\u001b[0m 3ms/step - Precision: 0.7638 - Recall: 0.7299 - accuracy: 0.8128 - loss: 0.3673 - val_Precision: 0.6527 - val_Recall: 0.8195 - val_accuracy: 0.7552 - val_loss: 0.4254\n",
      "Epoch 56/100\n",
      "\u001b[1m42/42\u001b[0m \u001b[32m━━━━━━━━━━━━━━━━━━━━\u001b[0m\u001b[37m\u001b[0m \u001b[1m0s\u001b[0m 3ms/step - Precision: 0.7973 - Recall: 0.7427 - accuracy: 0.8285 - loss: 0.3473 - val_Precision: 0.7638 - val_Recall: 0.7293 - val_accuracy: 0.8030 - val_loss: 0.3982\n",
      "Epoch 57/100\n",
      "\u001b[1m42/42\u001b[0m \u001b[32m━━━━━━━━━━━━━━━━━━━━\u001b[0m\u001b[37m\u001b[0m \u001b[1m0s\u001b[0m 3ms/step - Precision: 0.7903 - Recall: 0.6926 - accuracy: 0.8198 - loss: 0.3293 - val_Precision: 0.7708 - val_Recall: 0.5564 - val_accuracy: 0.7582 - val_loss: 0.4144\n",
      "Epoch 58/100\n",
      "\u001b[1m42/42\u001b[0m \u001b[32m━━━━━━━━━━━━━━━━━━━━\u001b[0m\u001b[37m\u001b[0m \u001b[1m0s\u001b[0m 3ms/step - Precision: 0.8048 - Recall: 0.6879 - accuracy: 0.8145 - loss: 0.3341 - val_Precision: 0.6536 - val_Recall: 0.7519 - val_accuracy: 0.7433 - val_loss: 0.5113\n",
      "Epoch 59/100\n",
      "\u001b[1m42/42\u001b[0m \u001b[32m━━━━━━━━━━━━━━━━━━━━\u001b[0m\u001b[37m\u001b[0m \u001b[1m0s\u001b[0m 4ms/step - Precision: 0.7289 - Recall: 0.7096 - accuracy: 0.7920 - loss: 0.3722 - val_Precision: 0.6560 - val_Recall: 0.6165 - val_accuracy: 0.7194 - val_loss: 0.4734\n",
      "Epoch 60/100\n",
      "\u001b[1m42/42\u001b[0m \u001b[32m━━━━━━━━━━━━━━━━━━━━\u001b[0m\u001b[37m\u001b[0m \u001b[1m0s\u001b[0m 4ms/step - Precision: 0.7563 - Recall: 0.7116 - accuracy: 0.8005 - loss: 0.3652 - val_Precision: 0.7835 - val_Recall: 0.5714 - val_accuracy: 0.7672 - val_loss: 0.4126\n",
      "Epoch 61/100\n",
      "\u001b[1m42/42\u001b[0m \u001b[32m━━━━━━━━━━━━━━━━━━━━\u001b[0m\u001b[37m\u001b[0m \u001b[1m0s\u001b[0m 4ms/step - Precision: 0.8692 - Recall: 0.6668 - accuracy: 0.8377 - loss: 0.3328 - val_Precision: 0.7876 - val_Recall: 0.6692 - val_accuracy: 0.7970 - val_loss: 0.3908\n",
      "Epoch 62/100\n",
      "\u001b[1m42/42\u001b[0m \u001b[32m━━━━━━━━━━━━━━━━━━━━\u001b[0m\u001b[37m\u001b[0m \u001b[1m0s\u001b[0m 4ms/step - Precision: 0.8110 - Recall: 0.7442 - accuracy: 0.8399 - loss: 0.3202 - val_Precision: 0.7767 - val_Recall: 0.6015 - val_accuracy: 0.7731 - val_loss: 0.4188\n",
      "Epoch 63/100\n",
      "\u001b[1m42/42\u001b[0m \u001b[32m━━━━━━━━━━━━━━━━━━━━\u001b[0m\u001b[37m\u001b[0m \u001b[1m0s\u001b[0m 3ms/step - Precision: 0.8113 - Recall: 0.7611 - accuracy: 0.8413 - loss: 0.3088 - val_Precision: 0.7214 - val_Recall: 0.7594 - val_accuracy: 0.7881 - val_loss: 0.4534\n",
      "Epoch 64/100\n",
      "\u001b[1m42/42\u001b[0m \u001b[32m━━━━━━━━━━━━━━━━━━━━\u001b[0m\u001b[37m\u001b[0m \u001b[1m0s\u001b[0m 3ms/step - Precision: 0.7758 - Recall: 0.7707 - accuracy: 0.8226 - loss: 0.3376 - val_Precision: 0.6378 - val_Recall: 0.6090 - val_accuracy: 0.7075 - val_loss: 0.5450\n",
      "Epoch 65/100\n",
      "\u001b[1m42/42\u001b[0m \u001b[32m━━━━━━━━━━━━━━━━━━━━\u001b[0m\u001b[37m\u001b[0m \u001b[1m0s\u001b[0m 3ms/step - Precision: 0.7964 - Recall: 0.6621 - accuracy: 0.7994 - loss: 0.3644 - val_Precision: 0.8019 - val_Recall: 0.6391 - val_accuracy: 0.7940 - val_loss: 0.4356\n",
      "Epoch 66/100\n",
      "\u001b[1m42/42\u001b[0m \u001b[32m━━━━━━━━━━━━━━━━━━━━\u001b[0m\u001b[37m\u001b[0m \u001b[1m0s\u001b[0m 4ms/step - Precision: 0.8302 - Recall: 0.7229 - accuracy: 0.8393 - loss: 0.3165 - val_Precision: 0.7480 - val_Recall: 0.6917 - val_accuracy: 0.7851 - val_loss: 0.4248\n",
      "Epoch 67/100\n"
     ]
    },
    {
     "name": "stdout",
     "output_type": "stream",
     "text": [
      "\u001b[1m42/42\u001b[0m \u001b[32m━━━━━━━━━━━━━━━━━━━━\u001b[0m\u001b[37m\u001b[0m \u001b[1m0s\u001b[0m 3ms/step - Precision: 0.7962 - Recall: 0.7474 - accuracy: 0.8300 - loss: 0.3247 - val_Precision: 0.8295 - val_Recall: 0.5489 - val_accuracy: 0.7761 - val_loss: 0.4176\n",
      "Epoch 68/100\n",
      "\u001b[1m42/42\u001b[0m \u001b[32m━━━━━━━━━━━━━━━━━━━━\u001b[0m\u001b[37m\u001b[0m \u001b[1m0s\u001b[0m 3ms/step - Precision: 0.8845 - Recall: 0.6741 - accuracy: 0.8456 - loss: 0.3143 - val_Precision: 0.8621 - val_Recall: 0.5639 - val_accuracy: 0.7910 - val_loss: 0.4590\n",
      "Epoch 69/100\n",
      "\u001b[1m42/42\u001b[0m \u001b[32m━━━━━━━━━━━━━━━━━━━━\u001b[0m\u001b[37m\u001b[0m \u001b[1m0s\u001b[0m 3ms/step - Precision: 0.8645 - Recall: 0.6609 - accuracy: 0.8312 - loss: 0.3337 - val_Precision: 0.6448 - val_Recall: 0.8872 - val_accuracy: 0.7612 - val_loss: 0.4778\n",
      "Epoch 70/100\n",
      "\u001b[1m42/42\u001b[0m \u001b[32m━━━━━━━━━━━━━━━━━━━━\u001b[0m\u001b[37m\u001b[0m \u001b[1m0s\u001b[0m 3ms/step - Precision: 0.8150 - Recall: 0.7848 - accuracy: 0.8498 - loss: 0.3007 - val_Precision: 0.7522 - val_Recall: 0.6391 - val_accuracy: 0.7731 - val_loss: 0.4334\n",
      "Epoch 71/100\n",
      "\u001b[1m42/42\u001b[0m \u001b[32m━━━━━━━━━━━━━━━━━━━━\u001b[0m\u001b[37m\u001b[0m \u001b[1m0s\u001b[0m 3ms/step - Precision: 0.7947 - Recall: 0.7577 - accuracy: 0.8306 - loss: 0.3291 - val_Precision: 0.8125 - val_Recall: 0.5865 - val_accuracy: 0.7821 - val_loss: 0.4313\n",
      "Epoch 72/100\n",
      "\u001b[1m42/42\u001b[0m \u001b[32m━━━━━━━━━━━━━━━━━━━━\u001b[0m\u001b[37m\u001b[0m \u001b[1m0s\u001b[0m 3ms/step - Precision: 0.8303 - Recall: 0.6733 - accuracy: 0.8121 - loss: 0.3379 - val_Precision: 0.7552 - val_Recall: 0.8120 - val_accuracy: 0.8209 - val_loss: 0.4073\n",
      "Epoch 73/100\n",
      "\u001b[1m42/42\u001b[0m \u001b[32m━━━━━━━━━━━━━━━━━━━━\u001b[0m\u001b[37m\u001b[0m \u001b[1m0s\u001b[0m 4ms/step - Precision: 0.8037 - Recall: 0.7373 - accuracy: 0.8357 - loss: 0.3168 - val_Precision: 0.7534 - val_Recall: 0.8271 - val_accuracy: 0.8239 - val_loss: 0.4209\n",
      "Epoch 74/100\n",
      "\u001b[1m42/42\u001b[0m \u001b[32m━━━━━━━━━━━━━━━━━━━━\u001b[0m\u001b[37m\u001b[0m \u001b[1m0s\u001b[0m 3ms/step - Precision: 0.8252 - Recall: 0.7906 - accuracy: 0.8449 - loss: 0.2958 - val_Precision: 0.7634 - val_Recall: 0.7519 - val_accuracy: 0.8090 - val_loss: 0.4064\n",
      "Epoch 75/100\n",
      "\u001b[1m42/42\u001b[0m \u001b[32m━━━━━━━━━━━━━━━━━━━━\u001b[0m\u001b[37m\u001b[0m \u001b[1m0s\u001b[0m 3ms/step - Precision: 0.8017 - Recall: 0.7901 - accuracy: 0.8412 - loss: 0.3053 - val_Precision: 0.7638 - val_Recall: 0.7293 - val_accuracy: 0.8030 - val_loss: 0.4370\n",
      "Epoch 76/100\n",
      "\u001b[1m42/42\u001b[0m \u001b[32m━━━━━━━━━━━━━━━━━━━━\u001b[0m\u001b[37m\u001b[0m \u001b[1m0s\u001b[0m 4ms/step - Precision: 0.8465 - Recall: 0.7732 - accuracy: 0.8545 - loss: 0.2864 - val_Precision: 0.7730 - val_Recall: 0.8195 - val_accuracy: 0.8328 - val_loss: 0.4084\n",
      "Epoch 77/100\n",
      "\u001b[1m42/42\u001b[0m \u001b[32m━━━━━━━━━━━━━━━━━━━━\u001b[0m\u001b[37m\u001b[0m \u001b[1m0s\u001b[0m 4ms/step - Precision: 0.8520 - Recall: 0.7693 - accuracy: 0.8589 - loss: 0.2978 - val_Precision: 0.7081 - val_Recall: 0.8571 - val_accuracy: 0.8030 - val_loss: 0.4406\n",
      "Epoch 78/100\n",
      "\u001b[1m42/42\u001b[0m \u001b[32m━━━━━━━━━━━━━━━━━━━━\u001b[0m\u001b[37m\u001b[0m \u001b[1m0s\u001b[0m 4ms/step - Precision: 0.7745 - Recall: 0.8199 - accuracy: 0.8346 - loss: 0.3097 - val_Precision: 0.7727 - val_Recall: 0.6391 - val_accuracy: 0.7821 - val_loss: 0.4435\n",
      "Epoch 79/100\n",
      "\u001b[1m42/42\u001b[0m \u001b[32m━━━━━━━━━━━━━━━━━━━━\u001b[0m\u001b[37m\u001b[0m \u001b[1m0s\u001b[0m 3ms/step - Precision: 0.8275 - Recall: 0.7293 - accuracy: 0.8395 - loss: 0.3165 - val_Precision: 0.7647 - val_Recall: 0.6842 - val_accuracy: 0.7910 - val_loss: 0.4301\n",
      "Epoch 80/100\n",
      "\u001b[1m42/42\u001b[0m \u001b[32m━━━━━━━━━━━━━━━━━━━━\u001b[0m\u001b[37m\u001b[0m \u001b[1m0s\u001b[0m 4ms/step - Precision: 0.8396 - Recall: 0.7542 - accuracy: 0.8447 - loss: 0.2847 - val_Precision: 0.8036 - val_Recall: 0.6767 - val_accuracy: 0.8060 - val_loss: 0.4442\n",
      "Epoch 81/100\n",
      "\u001b[1m42/42\u001b[0m \u001b[32m━━━━━━━━━━━━━━━━━━━━\u001b[0m\u001b[37m\u001b[0m \u001b[1m0s\u001b[0m 3ms/step - Precision: 0.8622 - Recall: 0.7484 - accuracy: 0.8595 - loss: 0.2950 - val_Precision: 0.6369 - val_Recall: 0.8571 - val_accuracy: 0.7493 - val_loss: 0.6218\n",
      "Epoch 82/100\n",
      "\u001b[1m42/42\u001b[0m \u001b[32m━━━━━━━━━━━━━━━━━━━━\u001b[0m\u001b[37m\u001b[0m \u001b[1m0s\u001b[0m 4ms/step - Precision: 0.7726 - Recall: 0.7379 - accuracy: 0.8165 - loss: 0.3993 - val_Precision: 0.6903 - val_Recall: 0.8045 - val_accuracy: 0.7791 - val_loss: 0.4388\n",
      "Epoch 83/100\n",
      "\u001b[1m42/42\u001b[0m \u001b[32m━━━━━━━━━━━━━━━━━━━━\u001b[0m\u001b[37m\u001b[0m \u001b[1m0s\u001b[0m 3ms/step - Precision: 0.7876 - Recall: 0.7440 - accuracy: 0.8304 - loss: 0.3290 - val_Precision: 0.6524 - val_Recall: 0.8045 - val_accuracy: 0.7522 - val_loss: 0.4660\n",
      "Epoch 84/100\n",
      "\u001b[1m42/42\u001b[0m \u001b[32m━━━━━━━━━━━━━━━━━━━━\u001b[0m\u001b[37m\u001b[0m \u001b[1m0s\u001b[0m 3ms/step - Precision: 0.8090 - Recall: 0.7986 - accuracy: 0.8485 - loss: 0.3002 - val_Precision: 0.7059 - val_Recall: 0.8120 - val_accuracy: 0.7910 - val_loss: 0.4129\n",
      "Epoch 85/100\n",
      "\u001b[1m42/42\u001b[0m \u001b[32m━━━━━━━━━━━━━━━━━━━━\u001b[0m\u001b[37m\u001b[0m \u001b[1m0s\u001b[0m 3ms/step - Precision: 0.7991 - Recall: 0.7162 - accuracy: 0.8270 - loss: 0.3321 - val_Precision: 0.6687 - val_Recall: 0.8346 - val_accuracy: 0.7701 - val_loss: 0.4356\n",
      "Epoch 86/100\n",
      "\u001b[1m42/42\u001b[0m \u001b[32m━━━━━━━━━━━━━━━━━━━━\u001b[0m\u001b[37m\u001b[0m \u001b[1m0s\u001b[0m 4ms/step - Precision: 0.8182 - Recall: 0.7449 - accuracy: 0.8474 - loss: 0.3012 - val_Precision: 0.7557 - val_Recall: 0.7444 - val_accuracy: 0.8030 - val_loss: 0.4564\n",
      "Epoch 87/100\n",
      "\u001b[1m42/42\u001b[0m \u001b[32m━━━━━━━━━━━━━━━━━━━━\u001b[0m\u001b[37m\u001b[0m \u001b[1m0s\u001b[0m 4ms/step - Precision: 0.8210 - Recall: 0.8078 - accuracy: 0.8480 - loss: 0.2986 - val_Precision: 0.7185 - val_Recall: 0.7293 - val_accuracy: 0.7791 - val_loss: 0.4417\n",
      "Epoch 88/100\n",
      "\u001b[1m42/42\u001b[0m \u001b[32m━━━━━━━━━━━━━━━━━━━━\u001b[0m\u001b[37m\u001b[0m \u001b[1m0s\u001b[0m 4ms/step - Precision: 0.7955 - Recall: 0.7817 - accuracy: 0.8374 - loss: 0.3267 - val_Precision: 0.7561 - val_Recall: 0.6992 - val_accuracy: 0.7910 - val_loss: 0.4169\n",
      "Epoch 89/100\n",
      "\u001b[1m42/42\u001b[0m \u001b[32m━━━━━━━━━━━━━━━━━━━━\u001b[0m\u001b[37m\u001b[0m \u001b[1m0s\u001b[0m 3ms/step - Precision: 0.8458 - Recall: 0.7183 - accuracy: 0.8460 - loss: 0.3102 - val_Precision: 0.6610 - val_Recall: 0.8797 - val_accuracy: 0.7731 - val_loss: 0.4541\n",
      "Epoch 90/100\n",
      "\u001b[1m42/42\u001b[0m \u001b[32m━━━━━━━━━━━━━━━━━━━━\u001b[0m\u001b[37m\u001b[0m \u001b[1m0s\u001b[0m 4ms/step - Precision: 0.7823 - Recall: 0.7653 - accuracy: 0.8298 - loss: 0.3246 - val_Precision: 0.8421 - val_Recall: 0.6015 - val_accuracy: 0.7970 - val_loss: 0.4101\n",
      "Epoch 91/100\n",
      "\u001b[1m42/42\u001b[0m \u001b[32m━━━━━━━━━━━━━━━━━━━━\u001b[0m\u001b[37m\u001b[0m \u001b[1m0s\u001b[0m 4ms/step - Precision: 0.8541 - Recall: 0.7452 - accuracy: 0.8534 - loss: 0.2943 - val_Precision: 0.6709 - val_Recall: 0.7970 - val_accuracy: 0.7642 - val_loss: 0.4058\n",
      "Epoch 92/100\n",
      "\u001b[1m42/42\u001b[0m \u001b[32m━━━━━━━━━━━━━━━━━━━━\u001b[0m\u001b[37m\u001b[0m \u001b[1m0s\u001b[0m 4ms/step - Precision: 0.7934 - Recall: 0.8199 - accuracy: 0.8451 - loss: 0.3112 - val_Precision: 0.7917 - val_Recall: 0.7143 - val_accuracy: 0.8119 - val_loss: 0.4640\n",
      "Epoch 93/100\n",
      "\u001b[1m42/42\u001b[0m \u001b[32m━━━━━━━━━━━━━━━━━━━━\u001b[0m\u001b[37m\u001b[0m \u001b[1m0s\u001b[0m 4ms/step - Precision: 0.8632 - Recall: 0.7704 - accuracy: 0.8639 - loss: 0.2775 - val_Precision: 0.8065 - val_Recall: 0.5639 - val_accuracy: 0.7731 - val_loss: 0.4645\n",
      "Epoch 94/100\n",
      "\u001b[1m42/42\u001b[0m \u001b[32m━━━━━━━━━━━━━━━━━━━━\u001b[0m\u001b[37m\u001b[0m \u001b[1m0s\u001b[0m 4ms/step - Precision: 0.8151 - Recall: 0.7532 - accuracy: 0.8480 - loss: 0.2762 - val_Precision: 0.7006 - val_Recall: 0.8271 - val_accuracy: 0.7910 - val_loss: 0.4501\n",
      "Epoch 95/100\n",
      "\u001b[1m42/42\u001b[0m \u001b[32m━━━━━━━━━━━━━━━━━━━━\u001b[0m\u001b[37m\u001b[0m \u001b[1m0s\u001b[0m 4ms/step - Precision: 0.7927 - Recall: 0.8056 - accuracy: 0.8402 - loss: 0.3100 - val_Precision: 0.6554 - val_Recall: 0.7293 - val_accuracy: 0.7403 - val_loss: 0.5005\n",
      "Epoch 96/100\n",
      "\u001b[1m42/42\u001b[0m \u001b[32m━━━━━━━━━━━━━━━━━━━━\u001b[0m\u001b[37m\u001b[0m \u001b[1m0s\u001b[0m 5ms/step - Precision: 0.7886 - Recall: 0.7778 - accuracy: 0.8287 - loss: 0.3145 - val_Precision: 0.8286 - val_Recall: 0.6541 - val_accuracy: 0.8090 - val_loss: 0.4292\n",
      "Epoch 97/100\n",
      "\u001b[1m42/42\u001b[0m \u001b[32m━━━━━━━━━━━━━━━━━━━━\u001b[0m\u001b[37m\u001b[0m \u001b[1m0s\u001b[0m 5ms/step - Precision: 0.8470 - Recall: 0.7603 - accuracy: 0.8532 - loss: 0.2880 - val_Precision: 0.7838 - val_Recall: 0.6541 - val_accuracy: 0.7910 - val_loss: 0.4454\n",
      "Epoch 98/100\n",
      "\u001b[1m42/42\u001b[0m \u001b[32m━━━━━━━━━━━━━━━━━━━━\u001b[0m\u001b[37m\u001b[0m \u001b[1m0s\u001b[0m 3ms/step - Precision: 0.8742 - Recall: 0.7503 - accuracy: 0.8686 - loss: 0.2652 - val_Precision: 0.6933 - val_Recall: 0.7820 - val_accuracy: 0.7761 - val_loss: 0.4572\n",
      "Epoch 99/100\n",
      "\u001b[1m42/42\u001b[0m \u001b[32m━━━━━━━━━━━━━━━━━━━━\u001b[0m\u001b[37m\u001b[0m \u001b[1m0s\u001b[0m 4ms/step - Precision: 0.7880 - Recall: 0.7914 - accuracy: 0.8398 - loss: 0.3241 - val_Precision: 0.8155 - val_Recall: 0.6316 - val_accuracy: 0.7970 - val_loss: 0.4192\n",
      "Epoch 100/100\n"
     ]
    },
    {
     "name": "stdout",
     "output_type": "stream",
     "text": [
      "\u001b[1m42/42\u001b[0m \u001b[32m━━━━━━━━━━━━━━━━━━━━\u001b[0m\u001b[37m\u001b[0m \u001b[1m0s\u001b[0m 5ms/step - Precision: 0.8310 - Recall: 0.7695 - accuracy: 0.8573 - loss: 0.2784 - val_Precision: 0.7542 - val_Recall: 0.6692 - val_accuracy: 0.7821 - val_loss: 0.4401\n"
     ]
    }
   ],
   "source": [
    "# Train the model\n",
    "history = model.fit(\n",
    "    X_train_reshaped,\n",
    "    y_train_numeric,\n",
    "    epochs=100,  # Number of epochs; adjust based on observations\n",
    "    batch_size=32,  # Batch size; adjust as needed\n",
    "    validation_split=0.2,  # Using part of the training set for validation\n",
    "    verbose=1\n",
    ")"
   ]
  },
  {
   "cell_type": "markdown",
   "id": "56b9525e",
   "metadata": {},
   "source": [
    "# Evaluating the LSTM Neural Network on Test Data\n",
    "\n",
    "After training the LSTM model, it is critical to assess its performance on an independent test set to evaluate its generalizability and effectiveness in making predictions on unseen data. This step is crucial for understanding the model's practical applicability."
   ]
  },
  {
   "cell_type": "code",
   "execution_count": 16,
   "id": "a2470ebf",
   "metadata": {},
   "outputs": [
    {
     "name": "stdout",
     "output_type": "stream",
     "text": [
      "\u001b[1m23/23\u001b[0m \u001b[32m━━━━━━━━━━━━━━━━━━━━\u001b[0m\u001b[37m\u001b[0m \u001b[1m0s\u001b[0m 2ms/step - Precision: 0.7181 - Recall: 0.6580 - accuracy: 0.7789 - loss: 0.4468 \n",
      "Test Loss: 0.4421212077140808\n",
      "Test Accuracy: 0.7682403326034546\n",
      "Test Precision: 0.6509090662002563\n",
      "Test Recall: 0.7910863757133484\n"
     ]
    }
   ],
   "source": [
    "# Evaluate the model on the test data\n",
    "test_results = model.evaluate(X_test_reshaped, y_test_numeric, verbose=1)\n",
    "\n",
    "print(f\"Test Loss: {test_results[0]}\")\n",
    "print(f\"Test Accuracy: {test_results[1]}\")\n",
    "print(f\"Test Precision: {test_results[2]}\")\n",
    "print(f\"Test Recall: {test_results[3]}\")"
   ]
  },
  {
   "cell_type": "markdown",
   "id": "3d0b8cc3",
   "metadata": {},
   "source": [
    "# Setting Up and Evaluating K-Nearest Neighbors Classifier\n",
    "\n",
    "This section details the steps to implement and assess the K-Nearest Neighbors (KNN) classifier for predicting sheep health status based on physiological data. KNN is a non-parametric, instance-based learning algorithm where the output is determined based on the majority vote of the nearest neighbors of each point."
   ]
  },
  {
   "cell_type": "code",
   "execution_count": 17,
   "id": "b141f0b7",
   "metadata": {},
   "outputs": [
    {
     "name": "stdout",
     "output_type": "stream",
     "text": [
      "Accuracy: 0.8022\n",
      "Precision: 0.7930\n",
      "Recall: 0.6545\n",
      "F1 Score: 0.7171\n",
      "ROC AUC: 0.7742\n"
     ]
    }
   ],
   "source": [
    "# Initialize the scaler\n",
    "scaler = StandardScaler()\n",
    "\n",
    "# Fit on training data and transform both training and test data\n",
    "X_train_scaled = scaler.fit_transform(X_train)\n",
    "X_test_scaled = scaler.transform(X_test)\n",
    "\n",
    "# Initialize the KNN model\n",
    "knn = KNeighborsClassifier(n_neighbors=9)\n",
    "\n",
    "# Fit the model on the scaled training data\n",
    "knn.fit(X_train_scaled, y_train_numeric)\n",
    "\n",
    "# Now, evaluate the model\n",
    "evaluate_model(knn, X_test_scaled, y_test_numeric)\n"
   ]
  },
  {
   "cell_type": "markdown",
   "id": "a334a00b",
   "metadata": {},
   "source": [
    "# Optimizing K-Nearest Neighbors Classifier with GridSearchCV\n",
    "\n",
    "This section of the notebook demonstrates how to fine-tune the parameters of a K-Nearest Neighbors (KNN) classifier using GridSearchCV. The goal is to identify the optimal number of neighbors (n_neighbors) that provides the highest accuracy for predicting the health status of sheep based on physiological data."
   ]
  },
  {
   "cell_type": "code",
   "execution_count": 18,
   "id": "c7a342a0",
   "metadata": {},
   "outputs": [
    {
     "name": "stdout",
     "output_type": "stream",
     "text": [
      "Best Parameter: {'n_neighbors': 9}\n",
      "Best Score: 0.8117079274287246\n",
      "Accuracy: 0.8022\n",
      "Precision: 0.7930\n",
      "Recall: 0.6545\n",
      "F1 Score: 0.7171\n",
      "ROC AUC: 0.7742\n"
     ]
    }
   ],
   "source": [
    "# Define the parameter grid: n_neighbors from 1 to 20\n",
    "param_grid = {'n_neighbors': range(1, 21)}\n",
    "\n",
    "# Initialize GridSearchCV\n",
    "grid_search = GridSearchCV(KNeighborsClassifier(), param_grid, cv=5, scoring='accuracy')\n",
    "\n",
    "# Fit GridSearchCV\n",
    "grid_search.fit(X_train_scaled, y_train_numeric)\n",
    "\n",
    "# Best parameter and score\n",
    "print(f\"Best Parameter: {grid_search.best_params_}\")\n",
    "print(f\"Best Score: {grid_search.best_score_}\")\n",
    "\n",
    "# Evaluate the best model found by GridSearchCV\n",
    "best_knn = grid_search.best_estimator_\n",
    "evaluate_model(best_knn, X_test_scaled, y_test_numeric)"
   ]
  },
  {
   "cell_type": "markdown",
   "id": "7847095c",
   "metadata": {},
   "source": [
    "# Conclusion\n",
    "\n",
    "The notebook concludes with insights into which models perform best based on the given data and the practical implications of these results for managing sheep health. We also suggest areas for further research, such as incorporating more diverse data points and testing more complex models."
   ]
  }
 ],
 "metadata": {
  "kernelspec": {
   "display_name": "Python 3 (ipykernel)",
   "language": "python",
   "name": "python3"
  },
  "language_info": {
   "codemirror_mode": {
    "name": "ipython",
    "version": 3
   },
   "file_extension": ".py",
   "mimetype": "text/x-python",
   "name": "python",
   "nbconvert_exporter": "python",
   "pygments_lexer": "ipython3",
   "version": "3.9.16"
  }
 },
 "nbformat": 4,
 "nbformat_minor": 5
}
